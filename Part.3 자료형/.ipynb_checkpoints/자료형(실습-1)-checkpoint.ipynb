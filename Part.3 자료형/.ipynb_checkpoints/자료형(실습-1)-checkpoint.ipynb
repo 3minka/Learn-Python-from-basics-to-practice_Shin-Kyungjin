{
 "cells": [
  {
   "cell_type": "code",
   "execution_count": 5,
   "id": "6c178f96",
   "metadata": {},
   "outputs": [
    {
     "name": "stdout",
     "output_type": "stream",
     "text": [
      "<class 'int'>\n",
      "<class 'float'>\n",
      "<class 'str'>\n"
     ]
    }
   ],
   "source": [
    "# 파이썬에서의 자료형 3가지\n",
    "\n",
    "# int형\n",
    "print(type(17))\n",
    "\n",
    "# float형\n",
    "print(type(17.2))\n",
    "\n",
    "# str형\n",
    "print(type(\"문자형\"))"
   ]
  },
  {
   "cell_type": "code",
   "execution_count": 17,
   "id": "81a0a24e",
   "metadata": {},
   "outputs": [
    {
     "name": "stdout",
     "output_type": "stream",
     "text": [
      "반지름을 정해주세요 \n",
      "5\n",
      "pi의 값은 3.141592653589793\n",
      "현재 구의 부피는 523.599입니다.\n",
      "현재 구의 부피는 523.599입니다.\n"
     ]
    }
   ],
   "source": [
    "# 반지름이 r, 구의 부피는 4/3 * pi * r^3\n",
    "\n",
    "import math\n",
    "pi = math.pi\n",
    "r= int(input(\"반지름을 정해주세요 \\n\"))\n",
    "\n",
    "gu_1 = round((4/3*pi*(r**3)), 3)\n",
    "gu_2 = round((4/3*pi*(pow(r,3))), 3)\n",
    "\n",
    "print(f\"pi의 값은 {pi}\")\n",
    "print(f\"현재 구의 부피는 {gu_1}입니다.\")\n",
    "print(f\"현재 구의 부피는 {gu_2}입니다.\")"
   ]
  },
  {
   "cell_type": "code",
   "execution_count": 24,
   "id": "da805f22",
   "metadata": {},
   "outputs": [
    {
     "name": "stdout",
     "output_type": "stream",
     "text": [
      "구의 겉넓이 314.159\n",
      "구의 겉넓이 314.159\n"
     ]
    }
   ],
   "source": [
    "# 반지름 r, 구의 겉넓이의 공식 4*pi*r^2\n",
    "\n",
    "r = 5\n",
    "\n",
    "outer_area = round(4*pi*(pow(r,2)), 3)\n",
    "\n",
    "print(\"구의 겉넓이\", outer_area)\n",
    "print(\"구의 겉넓이 \" + str(outer_area))"
   ]
  },
  {
   "cell_type": "code",
   "execution_count": 34,
   "id": "4685f83b",
   "metadata": {},
   "outputs": [
    {
     "name": "stdout",
     "output_type": "stream",
     "text": [
      "4년 5시간 2분 13초\n"
     ]
    }
   ],
   "source": [
    "# 지구에서 가장 가까운 별은 pr1, keta1 인데, 이는 지구로부터 40*10^12 km 떨어져있음\n",
    "# 빛의 속도로 갈때 시간이 얼마나 걸리는지 계산?\n",
    "\n",
    "#light_speed = 300,000km / sec\n",
    "\n",
    "light_speed = 300000\n",
    "dist = 40*(pow(10, 12))\n",
    "\n",
    "time = dist/light_speed\n",
    "sec_ = round(time % 60.0)\n",
    "min_ = round((time //60.0)% 60.0)\n",
    "hour_= round((time //3600.0) % 24)\n",
    "year_ = round((time //3600.0) // 24 //365)\n",
    "\n",
    "print(f\"{year_}년 {hour_}시간 {min_}분 {sec_}초\")"
   ]
  },
  {
   "cell_type": "code",
   "execution_count": null,
   "id": "0b9d11ce",
   "metadata": {},
   "outputs": [],
   "source": []
  }
 ],
 "metadata": {
  "kernelspec": {
   "display_name": "Python 3 (ipykernel)",
   "language": "python",
   "name": "python3"
  },
  "language_info": {
   "codemirror_mode": {
    "name": "ipython",
    "version": 3
   },
   "file_extension": ".py",
   "mimetype": "text/x-python",
   "name": "python",
   "nbconvert_exporter": "python",
   "pygments_lexer": "ipython3",
   "version": "3.8.12"
  }
 },
 "nbformat": 4,
 "nbformat_minor": 5
}
