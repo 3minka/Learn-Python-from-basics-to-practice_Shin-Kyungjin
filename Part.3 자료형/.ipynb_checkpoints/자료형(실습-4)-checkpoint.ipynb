{
 "cells": [
  {
   "cell_type": "code",
   "execution_count": 3,
   "id": "91fb1cf9",
   "metadata": {},
   "outputs": [
    {
     "name": "stdout",
     "output_type": "stream",
     "text": [
      "11 \n",
      "\n",
      "w\n",
      "o\n",
      "r\n",
      "l\n",
      "d\n",
      "_\n",
      "e\n",
      "r\n",
      "r\n",
      "o\n",
      "r\n"
     ]
    }
   ],
   "source": [
    "# 문자열의 인덱싱\n",
    "word = \"world_error\"\n",
    "\n",
    "print(len(word),'\\n')\n",
    "\n",
    "for i in range(len(word)):\n",
    "    print(word[i])"
   ]
  },
  {
   "cell_type": "code",
   "execution_count": 8,
   "id": "eebc98ba",
   "metadata": {},
   "outputs": [
    {
     "name": "stdout",
     "output_type": "stream",
     "text": [
      "단어 3가지 입력해주세요 ex) explain wolrd movie\n",
      "qwe asd zxc\n",
      "qaz\n",
      "wsx\n",
      "edc\n"
     ]
    }
   ],
   "source": [
    "# 사용자로부터 문자열 입력 3개를 받고, 문자열의 첫번째 문자를 인덱싱하여\n",
    "# 문자를 합쳐서 문자열로 만드는 프로그램을 만들어보자\n",
    "\n",
    "a, b, c = input(\"단어 3가지 입력해주세요 ex) explain wolrd movie\\n\").split()\n",
    "\n",
    "for i in range(3):\n",
    "    item = a[i]+b[i]+c[i]\n",
    "    print(item)"
   ]
  },
  {
   "cell_type": "code",
   "execution_count": 12,
   "id": "4af51552",
   "metadata": {},
   "outputs": [
    {
     "name": "stdout",
     "output_type": "stream",
     "text": [
      "6\n",
      "['서울', '부산']\n",
      "['서울', '전주']\n"
     ]
    }
   ],
   "source": [
    "city = [\"서울\",\"부산\",\"대구\",'대전','광주','인천']\n",
    "print(len(city))\n",
    "\n",
    "print(city[0:2])\n",
    "\n",
    "city[1]=\"전주\"\n",
    "\n",
    "print(city[0:2])"
   ]
  },
  {
   "cell_type": "code",
   "execution_count": 14,
   "id": "3650d981",
   "metadata": {},
   "outputs": [
    {
     "name": "stdout",
     "output_type": "stream",
     "text": [
      "이름 : san\n",
      "나이 : 31\n",
      "주소 : seoul\n",
      "키 : 180\n",
      "몸무게 : 70\n",
      "['san', '31', 'seoul', '180', '70']\n",
      "{'name': 'san', 'age': '31', 'address': 'seoul', 'tall': '180', 'weight': '70'}\n"
     ]
    }
   ],
   "source": [
    "# 한 사람의 정보를 출력\n",
    "\n",
    "name = input(\"이름 : \")\n",
    "age = input(\"나이 : \")\n",
    "address = input(\"주소 : \")\n",
    "tall = input(\"키 : \")\n",
    "weight = input(\"몸무게 : \")\n",
    "\n",
    "person_li = [name, age, address, tall, weight]\n",
    "print(person_li)\n",
    "\n",
    "person_dic = {'name':name, 'age':age, 'address':address, 'tall':tall, 'weight':weight}\n",
    "print(person_dic)"
   ]
  },
  {
   "cell_type": "code",
   "execution_count": null,
   "id": "c9e8f179",
   "metadata": {},
   "outputs": [],
   "source": []
  }
 ],
 "metadata": {
  "kernelspec": {
   "display_name": "Python 3 (ipykernel)",
   "language": "python",
   "name": "python3"
  },
  "language_info": {
   "codemirror_mode": {
    "name": "ipython",
    "version": 3
   },
   "file_extension": ".py",
   "mimetype": "text/x-python",
   "name": "python",
   "nbconvert_exporter": "python",
   "pygments_lexer": "ipython3",
   "version": "3.8.12"
  }
 },
 "nbformat": 4,
 "nbformat_minor": 5
}
