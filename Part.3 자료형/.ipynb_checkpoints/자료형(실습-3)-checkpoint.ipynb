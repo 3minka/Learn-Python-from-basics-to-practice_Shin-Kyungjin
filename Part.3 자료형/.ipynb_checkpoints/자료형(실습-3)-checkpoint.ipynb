{
 "cells": [
  {
   "cell_type": "code",
   "execution_count": 8,
   "id": "7667f9a0",
   "metadata": {},
   "outputs": [
    {
     "name": "stdout",
     "output_type": "stream",
     "text": [
      "Fist\n",
      "Second\n",
      "Third\n",
      "C:/Fist/Second/Third\n",
      "D:\\ Fist\\Second\\Third\\name.txt\n",
      "5\n",
      "6\n"
     ]
    }
   ],
   "source": [
    "message = \"Fist\\nSecond\\nThird\"\n",
    "print(message)\n",
    "\n",
    "message = \"C:/Fist/Second/Third\"\n",
    "print(message)\n",
    "\n",
    "message = r\"D:\\ Fist\\Second\\Third\\name.txt\"\n",
    "print(message)\n",
    "\n",
    "\n",
    "message = \"world\"\n",
    "print(len(message))\n",
    "\n",
    "message = \"한글입니다.\"\n",
    "print(len(message))"
   ]
  },
  {
   "cell_type": "code",
   "execution_count": 11,
   "id": "b11e857b",
   "metadata": {},
   "outputs": [
    {
     "name": "stdout",
     "output_type": "stream",
     "text": [
      "hello world Hi hello\n"
     ]
    }
   ],
   "source": [
    "first_name = \"hello world \"\n",
    "last_name = \"Hi hello\"\n",
    "\n",
    "name = first_name+last_name\n",
    "print(name)"
   ]
  },
  {
   "cell_type": "code",
   "execution_count": 12,
   "id": "5485808e",
   "metadata": {},
   "outputs": [
    {
     "name": "stdout",
     "output_type": "stream",
     "text": [
      "->->->->->->->->->->->->->->->->->->->->->->->->->->->->->->->->->->->->->->->->->->->->->->->->->->->->->->->->->->->->->->->->->->->->->->->->->->->->->->->->->->->->->->->->->->->->->->->->->->->->\n"
     ]
    }
   ],
   "source": [
    "arrow = \"->\" * 100\n",
    "print(arrow)"
   ]
  },
  {
   "cell_type": "code",
   "execution_count": 18,
   "id": "e03bb6c8",
   "metadata": {},
   "outputs": [
    {
     "name": "stdout",
     "output_type": "stream",
     "text": [
      "가격 : 1000\n",
      "time : 13:49\n",
      "time : 13:49 _ price : 1000\n"
     ]
    }
   ],
   "source": [
    "price = 1000\n",
    "print(\"가격 : %s\" % price)\n",
    "\n",
    "\n",
    "price = \"13:49\"\n",
    "print(\"time : %s\" % price)\n",
    "\n",
    "price2 = \"1000\"\n",
    "print(\"time : %s _ price : %s\" % (price, price2))"
   ]
  },
  {
   "cell_type": "code",
   "execution_count": null,
   "id": "b20ac52b",
   "metadata": {},
   "outputs": [],
   "source": []
  }
 ],
 "metadata": {
  "kernelspec": {
   "display_name": "Python 3 (ipykernel)",
   "language": "python",
   "name": "python3"
  },
  "language_info": {
   "codemirror_mode": {
    "name": "ipython",
    "version": 3
   },
   "file_extension": ".py",
   "mimetype": "text/x-python",
   "name": "python",
   "nbconvert_exporter": "python",
   "pygments_lexer": "ipython3",
   "version": "3.8.12"
  }
 },
 "nbformat": 4,
 "nbformat_minor": 5
}
