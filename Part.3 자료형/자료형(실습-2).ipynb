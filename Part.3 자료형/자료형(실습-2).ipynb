{
 "cells": [
  {
   "cell_type": "code",
   "execution_count": 47,
   "id": "6f382820",
   "metadata": {},
   "outputs": [
    {
     "name": "stdout",
     "output_type": "stream",
     "text": [
      "물건의 가격을 입력하세요5000\n",
      "지폐와 동전의 수를 입력하시오, ex) 1600원이 있다면 1000$ -> 1, 500$ -> 1, 100$ -> 1 \n",
      "3 1 1\n",
      "지폐와 동전의 수가 물건값보다 높습니다.\n",
      "물건의 가격을 입력하세요5000\n",
      "지폐와 동전의 수를 입력하시오, ex) 1600원이 있다면 1000$ -> 1, 500$ -> 1, 100$ -> 1 \n",
      "4 2 10\n",
      "거스름돈 총액  1000\n",
      "500원 동전 2개, 100원 동전0개, 10원 동전 0개, 1원 동전 0개\n"
     ]
    }
   ],
   "source": [
    "# 화폐계산, 자동 판매기를 시뮬레이션하는 프로그램 작성\n",
    "# 사용자는 1000원짜리 지폐, 500원,100원 동전을 사용가능하다. \n",
    "# 물건의 값을 사용자로부터 입력을 받아서 지폐와 동전의 개수및 거스름 돈을 동전의 개수로 반환하는 프로그램\n",
    "\n",
    "break_a = 0\n",
    "while not break_a == 5:\n",
    "    user_in = int(input(\"물건의 가격을 입력하세요\"))\n",
    "\n",
    "    use_1000, use_500, use_100 = input(\"지폐와 동전의 수를 입력하시오, ex) 1600원이 있다면 1000$ -> 1, 500$ -> 1, 100$ -> 1 \\n\").split()\n",
    "    use_1000 = int(use_1000)\n",
    "    use_500 = int(use_500)\n",
    "    use_100 = int(use_100)\n",
    "\n",
    "    th_1000 = 1000\n",
    "    th_500 = 500\n",
    "    th_100 = 100\n",
    "    th_10 = 10\n",
    "    node_money = (((use_1000*th_1000) + (use_500*th_500) + (use_100*th_100)) - user_in)\n",
    "    if node_money < 0:\n",
    "        print(\"지폐와 동전의 수가 물건값보다 낮습니다.\")\n",
    "        continue\n",
    "\n",
    "    use_th500 = (node_money // th_500)\n",
    "    use_th100 = node_money % th_500 // th_100\n",
    "    use_th10 = node_money % th_100 // th_10\n",
    "    use_th1 = node_money % th_10\n",
    "\n",
    "    print(\"거스름돈 총액 \", node_money)\n",
    "    print(f'500원 동전 {use_th500}개, 100원 동전{use_th100}개, 10원 동전 {use_th10}개, 1원 동전 {use_th1}개')\n",
    "    \n",
    "    break_a = 5"
   ]
  },
  {
   "cell_type": "code",
   "execution_count": 59,
   "id": "555d256b",
   "metadata": {},
   "outputs": [
    {
     "name": "stdout",
     "output_type": "stream",
     "text": [
      "Happy new year 2022\n",
      "Happy new year 2022\n",
      " 나는 '서울'에 있다면\n",
      "\"나\"는 '서울'에 있다면\n"
     ]
    }
   ],
   "source": [
    "# 문자열에 대한 실습\n",
    "\n",
    "welcome = \"Happy new year 2022\"\n",
    "print(welcome)\n",
    "\n",
    "welcome = 'Happy new year 2022'\n",
    "print(welcome)\n",
    "\n",
    "message = \" 나는 '서울'에 있다면\"\n",
    "print(message)\n",
    "\n",
    "message = \"\\\"나\\\"는 '서울'에 있다면\"\n",
    "print(message)"
   ]
  },
  {
   "cell_type": "code",
   "execution_count": null,
   "id": "d05be170",
   "metadata": {},
   "outputs": [],
   "source": []
  }
 ],
 "metadata": {
  "kernelspec": {
   "display_name": "Python 3 (ipykernel)",
   "language": "python",
   "name": "python3"
  },
  "language_info": {
   "codemirror_mode": {
    "name": "ipython",
    "version": 3
   },
   "file_extension": ".py",
   "mimetype": "text/x-python",
   "name": "python",
   "nbconvert_exporter": "python",
   "pygments_lexer": "ipython3",
   "version": "3.8.12"
  }
 },
 "nbformat": 4,
 "nbformat_minor": 5
}
