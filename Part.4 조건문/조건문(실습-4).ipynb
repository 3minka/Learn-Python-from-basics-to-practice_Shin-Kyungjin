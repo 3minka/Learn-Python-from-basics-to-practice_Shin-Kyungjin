{
 "cells": [
  {
   "cell_type": "code",
   "execution_count": 29,
   "id": "8ce4c871",
   "metadata": {},
   "outputs": [
    {
     "name": "stdout",
     "output_type": "stream",
     "text": [
      "\n",
      "논리 연산자, 두 개 이상의 조건을 조합해서 참인지 거짓인지를 계산할때 사용하는 연산자.\n",
      "종류 :\n",
      "and(논리곱, 단축계산(앞에만 보고 뒤에는 안본다.)), or(논리합), not(논리부정)\n",
      "\n",
      "알로에님은 탈 수 없습니다.\n",
      "######################################## and 연산\n",
      "\n",
      "알로에님은 놀이기구를 탈 수 있습니다.\n",
      "######################################## or 연산\n",
      "\n",
      "알로에님은 탈 수 없습니다.\n",
      "######################################## not 연산\n",
      "\n"
     ]
    }
   ],
   "source": [
    "pt = \"\"\"\n",
    "논리 연산자, 두 개 이상의 조건을 조합해서 참인지 거짓인지를 계산할때 사용하는 연산자.\n",
    "종류 :\n",
    "and(논리곱, 단축계산(앞에만 보고 뒤에는 안본다.)), or(논리합), not(논리부정)\n",
    "\"\"\"\n",
    "\n",
    "print(pt)\n",
    "\n",
    "name = \"알로에\"\n",
    "age = 14\n",
    "height = 150\n",
    "\n",
    "if (age == 14) and(height >= 160):\n",
    "    print(name + \"님은 놀이기구를 탈 수 있습니다.\")\n",
    "else:\n",
    "    print(name + \"님은 탈 수 없습니다.\")\n",
    "print(\"#\"*40, \"and 연산\")\n",
    "print()\n",
    "    \n",
    "    \n",
    "if (age == 14) or (height >= 160):\n",
    "    print(name + \"님은 놀이기구를 탈 수 있습니다.\")\n",
    "else:\n",
    "    print(name + \"님은 탈 수 없습니다.\")\n",
    "print(\"#\"*40, \"or 연산\")\n",
    "print()\n",
    "\n",
    "\n",
    "if not (age == 14) and (height >= 160):\n",
    "    print(name + \"님은 놀이기구를 탈 수 있습니다.\")\n",
    "else:\n",
    "    print(name + \"님은 탈 수 없습니다.\")\n",
    "print(\"#\"*40, \"not 연산\")\n",
    "print()"
   ]
  },
  {
   "cell_type": "code",
   "execution_count": 16,
   "id": "cefb7e21",
   "metadata": {},
   "outputs": [
    {
     "name": "stdout",
     "output_type": "stream",
     "text": [
      "\n",
      "대학교를 졸업시, 적어도 140학점, 평점은 2.0은 되어야 한다. 프로그램으로 작성.\n",
      "사용자에게 이수학점과 평점을 입력받아 졸업 가능 여부를 확인하는 코드를 작성하라.\n",
      "\n",
      "\n",
      "학생의 이름과 학점과 평점을 입력하세요. ex) sani 140 2.0sans 138 2.3\n",
      "sans 학생은 졸업하지 못합니다.\n"
     ]
    }
   ],
   "source": [
    "pt = \"\"\"\n",
    "대학교를 졸업시, 적어도 140학점, 평점은 2.0은 되어야 한다. 프로그램으로 작성.\n",
    "사용자에게 이수학점과 평점을 입력받아 졸업 가능 여부를 확인하는 코드를 작성하라.\n",
    "\"\"\"\n",
    "\n",
    "print(pt)\n",
    "print()\n",
    "\n",
    "name, grade, average_score = input(\"학생의 이름과 학점과 평점을 입력하세요. ex) sani 140 2.0\\n\").split()\n",
    "grade = int(grade)\n",
    "average_score = float(average_score)\n",
    "\n",
    "if (grade >= 140) and (average_score >= 2.0):\n",
    "    print(f\"{name} 학생은 졸업입니다.\")\n",
    "elif (grade < 140) or (average_score < 2.0):\n",
    "    print(f\"{name} 학생은 졸업하지 못합니다. 계절학기를 이용하여 학점과 평점을 올리세요.\")\n",
    "else:\n",
    "    print(\"error\")"
   ]
  },
  {
   "cell_type": "code",
   "execution_count": 24,
   "id": "17daae39",
   "metadata": {},
   "outputs": [
    {
     "name": "stdout",
     "output_type": "stream",
     "text": [
      "\n",
      "몸무게와 키를 입력받고 BMI가 20.0이상이고 25미만이면 표준이라 출력하고\n",
      "아니라면 체중관리가 필요합니다. 출력하는 프로그램\n",
      "\n",
      "BMI = 몸무게 / (키*키(m))\n",
      "\n",
      "\n",
      "몸무게와 키를 입력하세요. ex) 60kg 180cm -> 60 180\n",
      "70 178\n",
      "현재 키 178.0이고, 몸무게 70.0로  BMI는 22.093로 표준입니다.\n"
     ]
    }
   ],
   "source": [
    "pt = \"\"\"\n",
    "몸무게와 키를 입력받고 BMI가 20.0이상이고 25미만이면 표준이라 출력하고\n",
    "아니라면 체중관리가 필요합니다. 출력하는 프로그램\n",
    "\n",
    "BMI = 몸무게 / (키*키(m))\n",
    "\"\"\"\n",
    "print(pt)\n",
    "print()\n",
    "\n",
    "weight, height = input(\"몸무게와 키를 입력하세요. ex) 60kg 180cm -> 60 180\\n\").split()\n",
    "weight = float(weight)\n",
    "height = float(height)\n",
    "\n",
    "bmi = round((weight/(height**2/100))*100, 3)\n",
    "if (bmi >= 20.0) and (bmi < 25.0):\n",
    "    print(f\"현재 키 {height}cm이고, 몸무게 {weight}kg로  BMI는 {bmi}로 표준입니다.\")\n",
    "else:\n",
    "    print(f\"현재 키 {height}cm이고, 몸무게 {weight}kg로  BMI는 {bmi}로 체중관리가 필요합니다.\")\n"
   ]
  },
  {
   "cell_type": "code",
   "execution_count": null,
   "id": "f1f0287a",
   "metadata": {},
   "outputs": [],
   "source": []
  }
 ],
 "metadata": {
  "kernelspec": {
   "display_name": "Python 3 (ipykernel)",
   "language": "python",
   "name": "python3"
  },
  "language_info": {
   "codemirror_mode": {
    "name": "ipython",
    "version": 3
   },
   "file_extension": ".py",
   "mimetype": "text/x-python",
   "name": "python",
   "nbconvert_exporter": "python",
   "pygments_lexer": "ipython3",
   "version": "3.8.12"
  }
 },
 "nbformat": 4,
 "nbformat_minor": 5
}
