{
 "cells": [
  {
   "cell_type": "code",
   "execution_count": 20,
   "id": "a2c87e40",
   "metadata": {},
   "outputs": [
    {
     "name": "stdout",
     "output_type": "stream",
     "text": [
      "\n",
      "사용자로부터 달을 입력받아서 입력한 달의 일수를 구하는 프로그램을 작성하기\n",
      "\n",
      "2월 -> 28일\n",
      "\n",
      "1월~12월중 하나를 고르시오. ex) 1월 -> 1\n",
      "5\n",
      "선택하신 달은 5월 입니다.\n",
      "31일 입니다.\n"
     ]
    }
   ],
   "source": [
    "pt = \"\"\"\n",
    "사용자로부터 달을 입력받아서 입력한 달의 일수를 구하는 프로그램을 작성하기\n",
    "\n",
    "2월 -> 28일\n",
    "\"\"\"\n",
    "print(pt)\n",
    "\n",
    "month = int(input(\"1월~12월중 하나를 고르시오. ex) 1월 -> 1\\n\"))\n",
    "\n",
    "day_31 = [1,3, 5, 7, 8, 10, 12]\n",
    "day_30 = [4, 6, 9, 11]\n",
    "day_28 = [2]\n",
    "#print(len(day_31), len(day_30), len(day_28))\n",
    "\n",
    "print(f\"선택하신 달은 {month}월 입니다.\")\n",
    "if month in day_31:\n",
    "    print(\"31일 입니다.\")\n",
    "elif month in day_30:\n",
    "    print(\"30일 입니다.\")\n",
    "else:\n",
    "    print(\"28일 윤달입니다.\")"
   ]
  },
  {
   "cell_type": "code",
   "execution_count": 33,
   "id": "8e3972ed",
   "metadata": {},
   "outputs": [
    {
     "name": "stdout",
     "output_type": "stream",
     "text": [
      "\n",
      "사용자로부터 연도를 입력받고 윤년인지 아닌지를 판단하는 프로그램\n",
      "\n",
      "1. 연도가 4로 나누어 떨어지면 윤년\n",
      "2. 100으로 나누어 떨어지는 연도는 윤년이 아니라서 제외한다.\n",
      "3. 400으로 나누어 떨어지는 연도는 윤년이다.\n",
      "\n",
      "연도를 입력하세요\n",
      "2020\n",
      "선택하신 연도는 2020년 입니다.\n",
      "윤년입니다.\n"
     ]
    }
   ],
   "source": [
    "pt = \"\"\"\n",
    "사용자로부터 연도를 입력받고 윤년인지 아닌지를 판단하는 프로그램\n",
    "\n",
    "1. 연도가 4로 나누어 떨어지면 윤년\n",
    "2. 100으로 나누어 떨어지는 연도는 윤년이 아니라서 제외한다.\n",
    "3. 400으로 나누어 떨어지는 연도는 윤년이다.\n",
    "\"\"\"\n",
    "print(pt)\n",
    "\n",
    "# year = int(input(\"연도를 입력하세요\\n\"))\n",
    "\n",
    "# print(f\"선택하신 연도는 {year}년 입니다.\")\n",
    "# if (year%4 == 0):\n",
    "#     if (year%100 == 0):\n",
    "#         if (year%400 == 0):\n",
    "#             print(\"윤년입니다.\")\n",
    "#         else:\n",
    "#             print(\"윤년이 아닙니다.\")\n",
    "#     else:\n",
    "#         print(\"윤년입니다.\")\n",
    "# else:\n",
    "#     print(\"윤년이 아닙니다.\")\n",
    "\n",
    "    \n",
    "### \n",
    "year = int(input(\"연도를 입력하세요\\n\"))\n",
    "\n",
    "print(f\"선택하신 연도는 {year}년 입니다.\")\n",
    "\n",
    "if (((year%4) == 0) and ((year %100) != 0)) or ((year%400) == 0):\n",
    "    print(\"윤년입니다.\")\n",
    "else:\n",
    "    print(\"윤년이 아닙니다.\")"
   ]
  },
  {
   "cell_type": "code",
   "execution_count": 45,
   "id": "ceee1ef0",
   "metadata": {},
   "outputs": [
    {
     "name": "stdout",
     "output_type": "stream",
     "text": [
      "\n",
      "숫자 추측 게임 만들기\n",
      "\n",
      "난수의 값은 22\n",
      "숫자를 맞춰 게임 정답을 맞춰보세요. 50\n",
      "조금 더 낮게 숫자를 내려보세요. 시도 횟수는 1 회 입니다.\n",
      "숫자 다시 입력 30\n",
      "조금 더 낮게 숫자를 내려보세요. 시도 횟수는 2 회 입니다.\n",
      "숫자 다시 입력 25\n",
      "조금 더 낮게 숫자를 내려보세요. 시도 횟수는 3 회 입니다.\n",
      "숫자 다시 입력 23\n",
      "조금 더 낮게 숫자를 내려보세요. 시도 횟수는 4 회 입니다.\n",
      "숫자 다시 입력 22\n",
      "정답입니다. 시도 횟수는 5 회 입니다.\n"
     ]
    }
   ],
   "source": [
    "pt = \"\"\"\n",
    "숫자 추측 게임 만들기\n",
    "\"\"\"\n",
    "print(pt)\n",
    "\n",
    "from random import *\n",
    "\n",
    "ran_num = randint(1, 100) # 1~100 난수\n",
    "print(\"난수의 값은 \" + str(ran_num))\n",
    "\n",
    "user_num = int(input(\"숫자를 맞춰 게임 정답을 맞춰보세요. \"))\n",
    "\n",
    "count = 1\n",
    "while True:\n",
    "    if ran_num > user_num:\n",
    "        print(\"조금 더 크게 숫자를 올려보세요. 시도 횟수는 \" + str(count), \"회 입니다.\")\n",
    "    elif ran_num < user_num:\n",
    "        print(\"조금 더 낮게 숫자를 내려보세요. 시도 횟수는 \" + str(count), \"회 입니다.\")    \n",
    "    else:\n",
    "        print(\"정답입니다. 총 시도 횟수는 \" + str(count), \"회 입니다.\")\n",
    "        break\n",
    "    user_num = int(input(\"숫자 다시 입력 \"))\n",
    "    count += 1\n",
    "    "
   ]
  },
  {
   "cell_type": "code",
   "execution_count": null,
   "id": "aabf7705",
   "metadata": {},
   "outputs": [],
   "source": []
  }
 ],
 "metadata": {
  "kernelspec": {
   "display_name": "Python 3 (ipykernel)",
   "language": "python",
   "name": "python3"
  },
  "language_info": {
   "codemirror_mode": {
    "name": "ipython",
    "version": 3
   },
   "file_extension": ".py",
   "mimetype": "text/x-python",
   "name": "python",
   "nbconvert_exporter": "python",
   "pygments_lexer": "ipython3",
   "version": "3.8.12"
  }
 },
 "nbformat": 4,
 "nbformat_minor": 5
}
