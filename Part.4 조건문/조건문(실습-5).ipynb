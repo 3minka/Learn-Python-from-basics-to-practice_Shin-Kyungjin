{
 "cells": [
  {
   "cell_type": "code",
   "execution_count": 3,
   "id": "ca54751c",
   "metadata": {},
   "outputs": [
    {
     "name": "stdout",
     "output_type": "stream",
     "text": [
      "사과의 상태를 입력하시오. ex) 좋음, 나쁨\n",
      "나쁨\n",
      "사과를 사지 않는다.\n"
     ]
    }
   ],
   "source": [
    "apply = input(\"사과의 상태를 입력하시오. ex) 좋음, 나쁨\\n\")\n",
    "\n",
    "if apply == \"좋음\":\n",
    "    apply_pirce = int(input(\"사과 1개당 가격을 입력하세요\"))\n",
    "    \n",
    "    if apply_pirce < 1000:\n",
    "        print(\"10개를 산다.\")\n",
    "    else:\n",
    "        print(\"5개를 산다.\")\n",
    "else:\n",
    "    print(\"사과를 사지 않는다.\")\n"
   ]
  },
  {
   "cell_type": "code",
   "execution_count": 9,
   "id": "a466725d",
   "metadata": {},
   "outputs": [
    {
     "name": "stdout",
     "output_type": "stream",
     "text": [
      "\n",
      "사용자로부터 정수를 입력받아, 음수, 0, 양수 중에 어떤 값인지 출력하자.\n",
      "\n",
      "정수를 입력하세요-10\n",
      "음수이면서 짝수입니다.\n"
     ]
    }
   ],
   "source": [
    "pt = \"\"\"\n",
    "사용자로부터 정수를 입력받아, 음수, 0, 양수 중에 어떤 값인지 출력하자.\n",
    "\"\"\"\n",
    "print(pt)\n",
    "\n",
    "user_int = int(input(\"정수를 입력하세요\"))\n",
    "\n",
    "if user_int == 0:\n",
    "    print(\"0을 입력했습니다.\")\n",
    "elif user_int > 0:\n",
    "    if user_int%2 == 0:\n",
    "        print(\"양수이면서 짝수입니다.\")\n",
    "    else:\n",
    "        print(\"양수이면서 홀수입니다.\")\n",
    "else:\n",
    "    if abs(user_int%2) == 0:\n",
    "        print(\"음수이면서 짝수입니다.\")\n",
    "    else:\n",
    "        print(\"음수이면서 홀수입니다.\")\n"
   ]
  },
  {
   "cell_type": "code",
   "execution_count": 25,
   "id": "644f6aea",
   "metadata": {},
   "outputs": [
    {
     "name": "stdout",
     "output_type": "stream",
     "text": [
      "\n",
      "주사위 눈을 1~6개 까지에서 random으로 발생시켜, 해당하는 숫자를 출력하는 프로그램 만들기\n",
      "\n",
      "overloading 함수의 입력값이 같은 함수이지만 다를 수 있다.\n",
      "\n",
      "2\n"
     ]
    }
   ],
   "source": [
    "pt = \"\"\"\n",
    "주사위 눈을 1~6개 까지에서 random으로 발생시켜, 해당하는 숫자를 출력하는 프로그램 만들기\n",
    "\n",
    "overloading이란, 같은 name의 함수이지만 함수의 입력값이 다를 수 있다.\n",
    "\"\"\"\n",
    "print(pt)\n",
    "import random\n",
    "\n",
    "num = random.choices([1,2,3,4,5,6])\n",
    "print(num[0])"
   ]
  },
  {
   "cell_type": "code",
   "execution_count": null,
   "id": "6adc1da2",
   "metadata": {},
   "outputs": [],
   "source": []
  }
 ],
 "metadata": {
  "kernelspec": {
   "display_name": "Python 3 (ipykernel)",
   "language": "python",
   "name": "python3"
  },
  "language_info": {
   "codemirror_mode": {
    "name": "ipython",
    "version": 3
   },
   "file_extension": ".py",
   "mimetype": "text/x-python",
   "name": "python",
   "nbconvert_exporter": "python",
   "pygments_lexer": "ipython3",
   "version": "3.8.12"
  }
 },
 "nbformat": 4,
 "nbformat_minor": 5
}
