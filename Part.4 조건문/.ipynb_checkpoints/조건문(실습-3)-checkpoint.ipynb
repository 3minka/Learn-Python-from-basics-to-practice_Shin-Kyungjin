{
 "cells": [
  {
   "cell_type": "code",
   "execution_count": 2,
   "id": "cb8f1372",
   "metadata": {},
   "outputs": [
    {
     "name": "stdout",
     "output_type": "stream",
     "text": [
      " [java], [c++], {c}\n",
      "if (10>5) {\n",
      "    print(\"참입니다.\"); # 중괄호, 블록안에 있음\n",
      "}\n",
      "else {\n",
      "    print(\"거짓입니다.\"); # 중괄호, 블록안에 있음\n",
      "}\n"
     ]
    }
   ],
   "source": [
    "# 조건문의 block의 중요성에 대한 실습\n",
    "# 블록을 중괄호로 감싸서 들여쓰기해야 한다.\n",
    "\n",
    "ta_language = ''' [java], [c++], {c}는 중괄호를 필요하다\n",
    "if (10>5) {\n",
    "    print(\"참입니다.\"); # 중괄호, 블록안에 있음\n",
    "}\n",
    "else {\n",
    "    print(\"거짓입니다.\"); # 중괄호, 블록안에 있음\n",
    "}'''\n",
    "\n",
    "print(ta_language)"
   ]
  },
  {
   "cell_type": "code",
   "execution_count": 4,
   "id": "4b926676",
   "metadata": {},
   "outputs": [
    {
     "name": "stdout",
     "output_type": "stream",
     "text": [
      "합격\n"
     ]
    }
   ],
   "source": [
    "score = 95\n",
    "if(score >= 90):\n",
    "    print(\"합격\")\n",
    "elif (score >= 80):\n",
    "    print(\"보류\")\n",
    "else:\n",
    "    print(\"탈락\")"
   ]
  },
  {
   "cell_type": "code",
   "execution_count": 13,
   "id": "e712ce7c",
   "metadata": {},
   "outputs": [
    {
     "name": "stdout",
     "output_type": "stream",
     "text": [
      "물건 구입 금액을 원 단위로 입력해주세요. ex) 1000원 -> 1000\n",
      "75777\n",
      "물품 구매액의 5%의 가격인 3789원이 할인되어 71988원 입니다.\n"
     ]
    }
   ],
   "source": [
    "pt = '''\n",
    "쇼핑몰에서 물건구매시 구입액이 5만원 이상이면 5%의 할인을 해준다.\n",
    "사용자에게 구입 금액을 입력받고 최종적으로 할인 금액과 지불 금액을 출력하는 프로그램\n",
    "'''\n",
    "print(pt)\n",
    "print()\n",
    "input_price = int(input(\"물건 구입 금액을 원 단위로 입력해주세요. ex) 1000원 -> 1000\\n\"))\n",
    "\n",
    "if input_price >= 50000:\n",
    "    print(f\"물품 구매액의 5%의 가격인 {round(input_price*0.05)}원이 할인되어 {int(input_price*0.95)}원 입니다.\")\n",
    "else:\n",
    "    print(f\"구입 물건의 지불 가격은 {input_price}이며 할인대상이 아닙니다.\")\n"
   ]
  },
  {
   "cell_type": "code",
   "execution_count": 46,
   "id": "04bbb6d9",
   "metadata": {},
   "outputs": [
    {
     "name": "stdout",
     "output_type": "stream",
     "text": [
      "\n",
      "문자열의 중앙에 있는 문자를 추출해서 출력하는 프로그램\n",
      "\n",
      "\n",
      "문자를 입력해주세요안녕\n",
      "안녕\n"
     ]
    }
   ],
   "source": [
    "pt = \"\"\"\n",
    "문자열의 중앙에 있는 문자를 추출해서 출력하는 프로그램\n",
    "\"\"\"\n",
    "print(pt)\n",
    "print()\n",
    "\n",
    "word = input(\"문자를 입력해주세요\")\n",
    "\n",
    "if len(word)%2 == 1:\n",
    "    center_word = int(len(word)/2)\n",
    "    print(f\"{word[center_word]}\")\n",
    "else:\n",
    "    center_word = int(len(word)/2)\n",
    "    print(f\"{word[center_word-1:center_word+1]}\")\n"
   ]
  }
 ],
 "metadata": {
  "kernelspec": {
   "display_name": "Python 3 (ipykernel)",
   "language": "python",
   "name": "python3"
  },
  "language_info": {
   "codemirror_mode": {
    "name": "ipython",
    "version": 3
   },
   "file_extension": ".py",
   "mimetype": "text/x-python",
   "name": "python",
   "nbconvert_exporter": "python",
   "pygments_lexer": "ipython3",
   "version": "3.8.12"
  }
 },
 "nbformat": 4,
 "nbformat_minor": 5
}
