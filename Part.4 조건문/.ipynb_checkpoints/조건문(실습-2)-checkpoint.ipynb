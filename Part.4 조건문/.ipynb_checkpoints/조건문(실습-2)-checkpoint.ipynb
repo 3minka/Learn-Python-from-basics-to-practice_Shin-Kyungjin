{
 "cells": [
  {
   "cell_type": "code",
   "execution_count": 10,
   "id": "7b28bd1f",
   "metadata": {},
   "outputs": [
    {
     "name": "stdout",
     "output_type": "stream",
     "text": [
      "\n",
      "항공사에서는 짐붙일때, 20kg이 초과하면 20,000원의 추가비용\n",
      "20kg이하이면 수수료는 없다. 사용자로부터 짐의 무게를 입력받아\n",
      "사용자가 지불해야하는 금액이 얼마인지 계산하는 프로그램을 작성하자.\n",
      "\n"
     ]
    }
   ],
   "source": [
    "pt = '''\n",
    "항공사에서는 짐붙일때, 20kg이 초과하면 20,000원의 추가비용\n",
    "20kg이하이면 수수료는 없다. 사용자로부터 짐의 무게를 입력받아\n",
    "사용자가 지불해야하는 금액이 얼마인지 계산하는 프로그램을 작성하자.\n",
    "'''\n",
    "print('#'*40)\n",
    "print(pt)\n",
    "print('#'*40)\n",
    "zim = float(input(\"현재 짐의 무게를 입력하세요. \"))\n",
    "\n",
    "price = 0\n",
    "\n",
    "while zim > 20.0:\n",
    "    if zim > 20.0:\n",
    "        price += 20000\n",
    "        zim -= 20.0\n",
    "        continue\n",
    "        \n",
    "print(f\"지불할 가격은 {price}입니다.\")"
   ]
  },
  {
   "cell_type": "code",
   "execution_count": 24,
   "id": "d7cab3f4",
   "metadata": {},
   "outputs": [
    {
     "name": "stdout",
     "output_type": "stream",
     "text": [
      "########################################\n",
      "\n",
      "사용자로부터 정수를 입력받아 홀수인지, 짝수인지 말해주는 프로그램 작성\n",
      "\n",
      "########################################\n",
      "정수를 입력하세요, 0\n",
      "이 수는 0이므로 짝수, 홀수인지 모릅니다.\n",
      "짝수입니다.\n"
     ]
    }
   ],
   "source": [
    "pt = \"\"\"\n",
    "사용자로부터 정수를 입력받아 홀수인지, 짝수인지 말해주는 프로그램 작성\n",
    "\"\"\"\n",
    "print('#'*40)\n",
    "print(pt)\n",
    "print('#'*40)\n",
    "num = int(input(\"정수를 입력하세요, \"))\n",
    "\n",
    "if num == 0:\n",
    "    print(\"이 수는 0이므로 짝수, 홀수인지 모릅니다.\")\n",
    "if num%2 == 0:\n",
    "    print(\"짝수입니다.\")\n",
    "else:\n",
    "    print(\"홀수입니다.\")"
   ]
  },
  {
   "cell_type": "code",
   "execution_count": 30,
   "id": "fe20e8bb",
   "metadata": {},
   "outputs": [
    {
     "name": "stdout",
     "output_type": "stream",
     "text": [
      "########################################\n",
      "\n",
      "사용자로부터 정수를 2개 입력받아 더 큰 정수를 말해주는 프로그램 작성\n",
      "\n",
      "########################################\n",
      "정수를 2개 입력하세요. ex) 10 20 \n",
      "30 20\n",
      "30이(가) 더 크다\n"
     ]
    }
   ],
   "source": [
    "pt = \"\"\"\n",
    "사용자로부터 정수를 2개 입력받아 더 큰 정수를 말해주는 프로그램 작성\n",
    "\"\"\"\n",
    "print('#'*40)\n",
    "print(pt)\n",
    "print('#'*40)\n",
    "num1, num2 = input(\"정수를 2개 입력하세요. ex) 10 20 \\n\").split()\n",
    "\n",
    "num1 = int(num1)\n",
    "num2 = int(num2)\n",
    "\n",
    "if num1 > num2:\n",
    "    print(f\"{num1}이(가) 더 크다\")\n",
    "elif num1 == num2:\n",
    "    print(\"두 수는 같습니다.\")\n",
    "else:\n",
    "    print(f\"{num2}이(가) 더 크다\")"
   ]
  },
  {
   "cell_type": "code",
   "execution_count": null,
   "id": "9e6e03a7",
   "metadata": {},
   "outputs": [],
   "source": []
  }
 ],
 "metadata": {
  "kernelspec": {
   "display_name": "Python 3 (ipykernel)",
   "language": "python",
   "name": "python3"
  },
  "language_info": {
   "codemirror_mode": {
    "name": "ipython",
    "version": 3
   },
   "file_extension": ".py",
   "mimetype": "text/x-python",
   "name": "python",
   "nbconvert_exporter": "python",
   "pygments_lexer": "ipython3",
   "version": "3.8.12"
  }
 },
 "nbformat": 4,
 "nbformat_minor": 5
}
