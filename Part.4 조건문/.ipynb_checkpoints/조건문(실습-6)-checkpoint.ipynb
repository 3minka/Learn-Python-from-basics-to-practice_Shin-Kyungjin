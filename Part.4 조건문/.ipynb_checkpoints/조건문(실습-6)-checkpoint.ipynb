{
 "cells": [
  {
   "cell_type": "code",
   "execution_count": 8,
   "id": "45f58c02",
   "metadata": {},
   "outputs": [
    {
     "name": "stdout",
     "output_type": "stream",
     "text": [
      "\n",
      "사용자로부터 태어난 연도를 입력받아 초등, 중등, 고등, 대학생 분류중 어디에 속하는지\n",
      "출력하는 프로그램을 작성. 조건) 나이 : 현재나이 기준 \n",
      "\n",
      "초등 : 8~13\n",
      "중등 : 14~16\n",
      "고등 : 17~19\n",
      "대학 : 20~27\n",
      "\n",
      "현재 년도 2022년도\n",
      "나머지는 일반인 구분\n",
      "\n",
      "태어난 연도를 입력하세요.2010\n",
      "초등학생\n"
     ]
    }
   ],
   "source": [
    "pt = \"\"\"\n",
    "사용자로부터 태어난 연도를 입력받아 초등, 중등, 고등, 대학생 분류중 어디에 속하는지\n",
    "출력하는 프로그램을 작성. 조건) 나이 : 현재나이 기준 \n",
    "\n",
    "초등 : 8~13\n",
    "중등 : 14~16\n",
    "고등 : 17~19\n",
    "대학 : 20~27\n",
    "\n",
    "현재 년도 2022년도\n",
    "나머지는 일반인 구분\n",
    "\"\"\"\n",
    "\n",
    "print(pt)\n",
    "\n",
    "born_year = int(input(\"태어난 연도를 입력하세요.\"))\n",
    "now_year = 2022\n",
    "\n",
    "age = now_year - born_year + 1\n",
    "\n",
    "if (age>7) and (age<14):\n",
    "    print(\"초등학생\")\n",
    "elif (age>13) and (age<17):\n",
    "    print(\"중등생\")\n",
    "elif (age>16) and (age<20):\n",
    "    print(\"고등생\")\n",
    "elif (age>19) and (age<28):\n",
    "    print(\"대학생\")\n",
    "else:\n",
    "    print(\"일반인\")\n",
    "    \n"
   ]
  },
  {
   "cell_type": "code",
   "execution_count": 9,
   "id": "419b030b",
   "metadata": {},
   "outputs": [
    {
     "data": {
      "text/plain": [
       "13"
      ]
     },
     "execution_count": 9,
     "metadata": {},
     "output_type": "execute_result"
    }
   ],
   "source": [
    "age"
   ]
  },
  {
   "cell_type": "code",
   "execution_count": 57,
   "id": "edda91bd",
   "metadata": {},
   "outputs": [
    {
     "name": "stdout",
     "output_type": "stream",
     "text": [
      "\n",
      "user에게 아이디를 입력받아 등록되어진 아이디인지 검사한다.\n",
      "등록된 아이디를 리스트에 저장하고, 아이디가 등록되어 있다면 패스워들 물어보도록 한다.\n",
      "\n",
      "단 패스워드는 \"1234\"라고 가정한다. \n",
      "\n",
      "id를 입력해주세요asdzx\n",
      "\n",
      "id를 입력해주세요asdzx\n",
      "이미 등록된 id 입니다.\n",
      "password를 입력하세요1234\n",
      "asdzx님이 로그인 했습니다.\n",
      "\n",
      "id를 입력해주세요asdqwd\n",
      "\n",
      "id를 입력해주세요qweqwe\n",
      "\n",
      "id를 입력해주세요asd\n",
      "\n"
     ]
    }
   ],
   "source": [
    "pt = \"\"\"\n",
    "user에게 아이디를 입력받아 등록되어진 아이디인지 검사한다.\n",
    "등록된 아이디를 리스트에 저장하고, 아이디가 등록되어 있다면 패스워들 물어보도록 한다.\n",
    "\n",
    "단 패스워드는 \"1234\"라고 가정한다. \n",
    "\"\"\"\n",
    "\n",
    "print(pt)\n",
    "\n",
    "\n",
    "count = 0\n",
    "id_list = []\n",
    "while count < 5:    \n",
    "########################################################################  \n",
    "#    _id = input(\"id를 입력해주세요\")\n",
    "#     for id_value in id_list:\n",
    "#         if _id == id_value:\n",
    "#             print(\"이미 등록된 id 입니다.\")\n",
    "#             password = input(\"password를 입력하세요\")\n",
    "#             print(f\"password는 {password} 입니다.\")\n",
    "#         else:\n",
    "#             id_list.append(_id)\n",
    "#             id_list = list(set(id_list))\n",
    "#             break\n",
    "########################################################################\n",
    "    _id = input(\"id를 입력해주세요\")\n",
    "    \n",
    "    if _id in id_list:\n",
    "        print(\"이미 등록된 id 입니다.\")\n",
    "        password = input(\"password를 입력하세요\")\n",
    "        if password == '1234':\n",
    "            print(_id+\"님이 로그인 했습니다.\")\n",
    "        else:\n",
    "            print(\"패스워드가 틀렸습니다\")\n",
    "    else:\n",
    "        id_list.append(_id)\n",
    "    \n",
    "            \n",
    "    print()\n",
    "            \n",
    "    count += 1\n"
   ]
  },
  {
   "cell_type": "code",
   "execution_count": 101,
   "id": "99bd0cf8",
   "metadata": {},
   "outputs": [
    {
     "name": "stdout",
     "output_type": "stream",
     "text": [
      "\n",
      "학점을 세부적으로 나누는 프로그램을 작성하기\n",
      "조건:\n",
      "1. user로부터 점수를 입력받는다.\n",
      "2. 점수가 95점 이상 100점 이하라면 A+\n",
      "3. 점수가 90점 이상 94점 이하라면 A\n",
      "4. 점수가 85점 이상 99점 이하라면 B+\n",
      "5. 점수가 80점 이상 84점 이하라면 B\n",
      "6. 점수가 75점 이상 79점 이하라면 c+\n",
      "7. 점수가 70점 이상 74점 이하라면 c, \n",
      "D와 D+도 마찬가지로 점수 5점 기준\n",
      "단 f는 그냥 +없이 출력한다.\n",
      "\n",
      "점수를 입력하세요\n",
      "50\n",
      "F\n",
      "점수를 입력하세요\n",
      "50\n",
      "F\n",
      "점수를 입력하세요\n",
      "55\n",
      "F\n",
      "점수를 입력하세요\n",
      "60\n",
      "D\n",
      "점수를 입력하세요\n",
      "70\n",
      "C\n",
      "점수를 입력하세요\n",
      "80\n",
      "B\n",
      "점수를 입력하세요\n",
      "90\n",
      "A\n",
      "점수를 입력하세요\n",
      "95\n",
      "A+\n",
      "점수를 입력하세요\n",
      "100\n",
      "A+\n",
      "점수를 입력하세요\n",
      "59\n",
      "F\n"
     ]
    }
   ],
   "source": [
    "pt = \"\"\"\n",
    "학점을 세부적으로 나누는 프로그램을 작성하기\n",
    "조건:\n",
    "1. user로부터 점수를 입력받는다.\n",
    "2. 점수가 95점 이상 100점 이하라면 A+\n",
    "3. 점수가 90점 이상 94점 이하라면 A\n",
    "4. 점수가 85점 이상 99점 이하라면 B+\n",
    "5. 점수가 80점 이상 84점 이하라면 B\n",
    "6. 점수가 75점 이상 79점 이하라면 c+\n",
    "7. 점수가 70점 이상 74점 이하라면 c, \n",
    "D와 D+도 마찬가지로 점수 5점 기준\n",
    "단 f는 그냥 +없이 출력한다.\n",
    "\"\"\"\n",
    "\n",
    "print(pt)\n",
    "\n",
    "\n",
    "\n",
    "grade_list = ['A+', 'A', 'B+', 'B', 'C+', 'C', 'D+', 'D', 'F']\n",
    "\n",
    "count = 0\n",
    "while count < 10:\n",
    "    user_score = int(input(\"점수를 입력하세요\\n\"))\n",
    "    \n",
    "    for i in range(9):\n",
    "        if user_score > 95:\n",
    "            print(grade_list[0])\n",
    "            break\n",
    "        if user_score < 60:\n",
    "            print(grade_list[8])\n",
    "            break\n",
    "        if (user_score >= (100-(5*(i+1))) and (user_score < (100-(5*i)))):\n",
    "            print(grade_list[i])\n",
    "            break\n",
    "    count += 1"
   ]
  },
  {
   "cell_type": "code",
   "execution_count": 100,
   "id": "9841aebe",
   "metadata": {},
   "outputs": [
    {
     "name": "stdout",
     "output_type": "stream",
     "text": [
      "A+ 100\n",
      "A 95\n",
      "B+ 90\n",
      "B 85\n",
      "C+ 80\n",
      "C 75\n",
      "D+ 70\n",
      "D 65\n",
      "F 60\n"
     ]
    }
   ],
   "source": [
    "\n",
    "for i in range(9):\n",
    "    if (100-(5*(i+1))) and (100-(5*i)):\n",
    "        print(grade_list[i], (100-(5*i)))"
   ]
  },
  {
   "cell_type": "code",
   "execution_count": null,
   "id": "a2c87e40",
   "metadata": {},
   "outputs": [],
   "source": []
  }
 ],
 "metadata": {
  "kernelspec": {
   "display_name": "Python 3 (ipykernel)",
   "language": "python",
   "name": "python3"
  },
  "language_info": {
   "codemirror_mode": {
    "name": "ipython",
    "version": 3
   },
   "file_extension": ".py",
   "mimetype": "text/x-python",
   "name": "python",
   "nbconvert_exporter": "python",
   "pygments_lexer": "ipython3",
   "version": "3.8.12"
  }
 },
 "nbformat": 4,
 "nbformat_minor": 5
}
