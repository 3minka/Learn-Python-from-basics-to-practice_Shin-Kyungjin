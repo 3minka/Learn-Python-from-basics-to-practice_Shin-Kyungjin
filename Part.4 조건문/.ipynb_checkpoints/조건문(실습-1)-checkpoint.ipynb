{
 "cells": [
  {
   "cell_type": "code",
   "execution_count": 5,
   "id": "984e54fd",
   "metadata": {},
   "outputs": [
    {
     "name": "stdout",
     "output_type": "stream",
     "text": [
      "점수를 입력하세요 : 60\n",
      "입력된 점수 60는 합격\n"
     ]
    }
   ],
   "source": [
    "score = int(input(\"점수를 입력하세요 : \"))\n",
    "\n",
    "if score >= 60:\n",
    "    print(f'입력된 점수 {score}는 합격')\n",
    "else:\n",
    "    print(f'입력된 점수 {score}는 불합격')"
   ]
  },
  {
   "cell_type": "code",
   "execution_count": 7,
   "id": "34eb1883",
   "metadata": {},
   "outputs": [
    {
     "name": "stdout",
     "output_type": "stream",
     "text": [
      "나이를 입력하시오. 20\n",
      "담배 구입이 가능합니다.\n"
     ]
    }
   ],
   "source": [
    "age = int(input(\"나이를 입력하시오. \"))\n",
    "if age > 19:\n",
    "    print(\"담배 구입이 가능합니다.\")\n",
    "else:\n",
    "    print(\"미성년자 입니다.\")"
   ]
  },
  {
   "cell_type": "code",
   "execution_count": 29,
   "id": "01ace687",
   "metadata": {},
   "outputs": [
    {
     "name": "stdout",
     "output_type": "stream",
     "text": [
      "D학점\n",
      "C학점\n",
      "A학점\n",
      "F학점\n"
     ]
    }
   ],
   "source": [
    "score_dic = {'aa' : 63, 'bb' : 72, 'cc':92, 'dd':30}\n",
    "for score in score_list.values():\n",
    "    if score >= 90:\n",
    "        print(\"A학점\")\n",
    "    elif score >= 80:\n",
    "        print(\"B학점\")\n",
    "    elif score >= 70:\n",
    "        print(\"C학점\")\n",
    "    elif score >= 60:\n",
    "        print(\"D학점\")\n",
    "    else:\n",
    "        print(\"F학점\")\n"
   ]
  },
  {
   "cell_type": "code",
   "execution_count": 31,
   "id": "cd3fe8bd",
   "metadata": {},
   "outputs": [
    {
     "name": "stdout",
     "output_type": "stream",
     "text": [
      "성별을 입력하세요 : 여장\n",
      "error\n"
     ]
    }
   ],
   "source": [
    "gender = input(\"성별을 입력하세요 : \")\n",
    "\n",
    "if gender == \"남자\":\n",
    "    print(\"남자입력\")\n",
    "elif gender == \"여자\":\n",
    "    print(\"여자입력\")\n",
    "else:\n",
    "    print(\"error\")"
   ]
  },
  {
   "cell_type": "code",
   "execution_count": 37,
   "id": "02612741",
   "metadata": {},
   "outputs": [
    {
     "name": "stdout",
     "output_type": "stream",
     "text": [
      "현재 value11는 False이므로 if not 구문실행\n",
      "\n",
      "현재 value1는 True이므로 if 구문실행 \n",
      "\n"
     ]
    }
   ],
   "source": [
    "flag = [False, True]\n",
    "\n",
    "for value in flag:\n",
    "    if value:\n",
    "        print(f\"현재 value1는 {value}이므로 if 구문실행 \")\n",
    "    if not value:\n",
    "        print(f\"현재 value11는 {value}이므로 if not 구문실행\")\n",
    "    print()"
   ]
  },
  {
   "cell_type": "code",
   "execution_count": null,
   "id": "6825e1dd",
   "metadata": {},
   "outputs": [],
   "source": []
  }
 ],
 "metadata": {
  "kernelspec": {
   "display_name": "Python 3 (ipykernel)",
   "language": "python",
   "name": "python3"
  },
  "language_info": {
   "codemirror_mode": {
    "name": "ipython",
    "version": 3
   },
   "file_extension": ".py",
   "mimetype": "text/x-python",
   "name": "python",
   "nbconvert_exporter": "python",
   "pygments_lexer": "ipython3",
   "version": "3.8.12"
  }
 },
 "nbformat": 4,
 "nbformat_minor": 5
}
