{
 "cells": [
  {
   "cell_type": "code",
   "execution_count": 3,
   "id": "91335b2d",
   "metadata": {},
   "outputs": [
    {
     "name": "stdout",
     "output_type": "stream",
     "text": [
      "\n",
      "중첩 루프, 반복문 안에 또 다른 반복문\n",
      "\n",
      "**********\n",
      "**********\n",
      "**********\n",
      "**********\n",
      "**********\n"
     ]
    }
   ],
   "source": [
    "pt = \"\"\"\n",
    "중첩 루프, 반복문 안에 또 다른 반복문\n",
    "\"\"\"\n",
    "print(pt)\n",
    "\n",
    "for y in range(5):\n",
    "    for x in range(10):\n",
    "        print('*', end=\"\")\n",
    "    print(\"\")"
   ]
  },
  {
   "cell_type": "code",
   "execution_count": 26,
   "id": "2a03d6ff",
   "metadata": {},
   "outputs": [
    {
     "name": "stdout",
     "output_type": "stream",
     "text": [
      "\n",
      "중첩 루프, 반복문 안에 또 다른 반복문\n",
      "\n",
      "*\n",
      "**\n",
      "***\n",
      "****\n",
      "*****\n"
     ]
    }
   ],
   "source": [
    "pt = \"\"\"\n",
    "중첩 루프, 반복문 안에 또 다른 반복문\n",
    "\"\"\"\n",
    "print(pt)\n",
    "\n",
    "for y in range(5):\n",
    "    for x in range(1):\n",
    "        print('*'*(y+1))\n",
    "    print(\"\", end=\"\")"
   ]
  },
  {
   "cell_type": "code",
   "execution_count": 22,
   "id": "dde2dcb3",
   "metadata": {},
   "outputs": [
    {
     "name": "stdout",
     "output_type": "stream",
     "text": [
      "\n",
      "중첩 루프, 반복문 안에 또 다른 반복문\n",
      "\n",
      "*\n",
      "**\n",
      "***\n",
      "****\n",
      "*****\n"
     ]
    }
   ],
   "source": [
    "pt = \"\"\"\n",
    "중첩 루프, 반복문 안에 또 다른 반복문\n",
    "\"\"\"\n",
    "print(pt)\n",
    "\n",
    "for y in range(5):\n",
    "    for x in range(y+1):\n",
    "        print('*', end=\"\")\n",
    "    print(\"\")"
   ]
  },
  {
   "cell_type": "code",
   "execution_count": 28,
   "id": "b85229db",
   "metadata": {},
   "outputs": [
    {
     "name": "stdout",
     "output_type": "stream",
     "text": [
      "\n",
      "중첩 루프, 반복문 안에 또 다른 반복문\n",
      "\n",
      "******\n",
      "*****\n",
      "****\n",
      "***\n",
      "**\n",
      "*\n"
     ]
    }
   ],
   "source": [
    "pt = \"\"\"\n",
    "중첩 루프, 반복문 안에 또 다른 반복문\n",
    "\"\"\"\n",
    "print(pt)\n",
    "\n",
    "for y in range(5, -1, -1):\n",
    "    for x in range(y+1):\n",
    "        print('*', end=\"\")\n",
    "    print(\"\")"
   ]
  },
  {
   "cell_type": "code",
   "execution_count": 29,
   "id": "6c7137f6",
   "metadata": {},
   "outputs": [
    {
     "name": "stdout",
     "output_type": "stream",
     "text": [
      "\n",
      "중첩 루프, 반복문 안에 또 다른 반복문\n",
      "\n",
      "*****\n",
      "****\n",
      "***\n",
      "**\n",
      "*\n"
     ]
    }
   ],
   "source": [
    "pt = \"\"\"\n",
    "중첩 루프, 반복문 안에 또 다른 반복문\n",
    "\"\"\"\n",
    "print(pt)\n",
    "\n",
    "for y in range(5, 0, -1):\n",
    "    for x in range(y):\n",
    "        print('*', end=\"\")\n",
    "    print(\"\")"
   ]
  },
  {
   "cell_type": "code",
   "execution_count": 41,
   "id": "06c6c67b",
   "metadata": {},
   "outputs": [
    {
     "name": "stdout",
     "output_type": "stream",
     "text": [
      "\n",
      "중첩 루프, 반복문 안에 또 다른 반복문\n",
      "\n",
      "*****\n",
      "0****\n",
      "00***\n",
      "000**\n",
      "0000*\n"
     ]
    }
   ],
   "source": [
    "pt = \"\"\"\n",
    "중첩 루프, 반복문 안에 또 다른 반복문\n",
    "\"\"\"\n",
    "print(pt)\n",
    "\n",
    "for y in range(5, 0, -1):\n",
    "    print(\"{:0>5}\".format('*'*(y)))"
   ]
  },
  {
   "cell_type": "code",
   "execution_count": null,
   "id": "8504ae5e",
   "metadata": {},
   "outputs": [],
   "source": []
  }
 ],
 "metadata": {
  "kernelspec": {
   "display_name": "Python 3 (ipykernel)",
   "language": "python",
   "name": "python3"
  },
  "language_info": {
   "codemirror_mode": {
    "name": "ipython",
    "version": 3
   },
   "file_extension": ".py",
   "mimetype": "text/x-python",
   "name": "python",
   "nbconvert_exporter": "python",
   "pygments_lexer": "ipython3",
   "version": "3.8.12"
  }
 },
 "nbformat": 4,
 "nbformat_minor": 5
}
