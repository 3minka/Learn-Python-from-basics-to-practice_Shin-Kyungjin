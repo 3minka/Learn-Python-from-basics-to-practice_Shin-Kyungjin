{
 "cells": [
  {
   "cell_type": "code",
   "execution_count": 2,
   "id": "91335b2d",
   "metadata": {},
   "outputs": [
    {
     "name": "stdout",
     "output_type": "stream",
     "text": [
      "\n",
      "반복문으로 문자열 처리하기\n",
      "\n",
      "apple"
     ]
    }
   ],
   "source": [
    "pt = \"\"\"\n",
    "반복문으로 문자열 처리하기\n",
    "\"\"\"\n",
    "print(pt)\n",
    "\n",
    "fruit = \"apple\"\n",
    "\n",
    "for i in fruit:\n",
    "    print(i, end=\"\")"
   ]
  },
  {
   "cell_type": "code",
   "execution_count": 9,
   "id": "41c23212",
   "metadata": {},
   "outputs": [
    {
     "name": "stdout",
     "output_type": "stream",
     "text": [
      "\n",
      "사용자로부터 문자열을 입력받아 모음을 전부 없애는 코드\n",
      "\n",
      "문자을 입력하세요 : \n",
      "askdkzxcamqwe\n",
      "모음 없는 문자열 : skdkzxcmqw\n"
     ]
    }
   ],
   "source": [
    "pt = \"\"\"\n",
    "사용자로부터 문자열을 입력받아 모음을 전부 없애는 코드\n",
    "\"\"\"\n",
    "print(pt)\n",
    "\n",
    "s = input(\"문자을 입력하세요 : \\n\")\n",
    "\n",
    "vocab = \"aeiouAEIOU\"\n",
    "\n",
    "result = \"\"\n",
    "for value in s:\n",
    "    if not value in vocab:\n",
    "        result += value\n",
    "print(f\"자음 문자열 : {result}\")        "
   ]
  },
  {
   "cell_type": "code",
   "execution_count": 13,
   "id": "f960fbd9",
   "metadata": {},
   "outputs": [
    {
     "name": "stdout",
     "output_type": "stream",
     "text": [
      "\n",
      "사용자로부터 문자열을 입력받아 자음과 모음의 개수를 출력\n",
      "\n",
      "문자열을 입력하세요. \n",
      "iiiiookkkkk\n",
      "자음 수 : 5개, 모음 수 : 6개\n"
     ]
    }
   ],
   "source": [
    "pt = \"\"\"\n",
    "사용자로부터 문자열을 입력받아 자음과 모음의 개수를 출력\n",
    "\"\"\"\n",
    "print(pt)\n",
    "\n",
    "\n",
    "user_str = input(\"문자열을 입력하세요. \\n\")\n",
    "\n",
    "vocab_mo = \"aeiouAEIOU\"\n",
    "total_za = \"\"\n",
    "total_mo = \"\"\n",
    "\n",
    "for value in user_str:\n",
    "    if not value in vocab_mo:\n",
    "        total_za += value\n",
    "    else:\n",
    "        total_mo += value\n",
    "        \n",
    "print(f\"자음 수 : {len(total_za)}개, 모음 수 : {len(total_mo)}개\")"
   ]
  },
  {
   "cell_type": "code",
   "execution_count": 11,
   "id": "a8e4f2ad",
   "metadata": {},
   "outputs": [
    {
     "name": "stdout",
     "output_type": "stream",
     "text": [
      "\n",
      "사용자로부터 문자열을 입력받아 자음과 모음의 개수를 출력\n",
      "\n",
      "문자열을 입력하세요. \n",
      "qwkeasmdkasd\n",
      "자음 수 : 9개, 모음 수 : 3개\n"
     ]
    }
   ],
   "source": [
    "pt = \"\"\"\n",
    "사용자로부터 문자열을 입력받아 자음과 모음의 개수를 출력\n",
    "\"\"\"\n",
    "print(pt)\n",
    "\n",
    "\n",
    "user_str = input(\"문자열을 입력하세요. \\n\")\n",
    "\n",
    "# 입력받은 문자열을 전부 소문자로 변경한다. \n",
    "word = user_str.lower() # 대문자는 upper\n",
    "mo_ = 0\n",
    "za_ = 0\n",
    "\n",
    "#문자열의 길이가 0초과, 알파벳이라면 참을 반환\n",
    "if len(user_str) > 0 and user_str.isalpha():\n",
    "    for ch in word:\n",
    "        if ch in \"aeiou\":\n",
    "            mo_ += 1\n",
    "        else:\n",
    "            za_ += 1\n",
    "\n",
    "print(f\"자음 수 : {za_}개, 모음 수 : {mo_}개\")"
   ]
  },
  {
   "cell_type": "code",
   "execution_count": 25,
   "id": "30d4df68",
   "metadata": {},
   "outputs": [
    {
     "name": "stdout",
     "output_type": "stream",
     "text": [
      "\n",
      "사용자로부터 문자열을 입력받아 알파벳 문자의 개수, 숫자의 개수, \"공백\"의 개수를 출력하는 프로그램\n",
      "\n",
      "문자열을 입력하세요. \n",
      "askdqwem ㅁㄴ아 kwme1\n",
      "영어 알파벳이 아니거나, 숫자, 공백이 아닙니다. 잘못된 접근 입니다.\n",
      "공백 1개, 알파벳 8개, 숫자 0개\n"
     ]
    }
   ],
   "source": [
    "pt = \"\"\"\n",
    "사용자로부터 문자열을 입력받아 알파벳 문자의 개수, 숫자의 개수, \"공백\"의 개수를 출력하는 프로그램\n",
    "\"\"\"\n",
    "print(pt)\n",
    "user_str = input(\"문자열을 입력하세요. \\n\")\n",
    "\n",
    "blank = 0\n",
    "alpha = 0\n",
    "number = 0\n",
    "\n",
    "for i in user_str:\n",
    "    if i.encode().isalpha(): # 알파벳이라면\n",
    "        alpha += 1\n",
    "    elif i == \" \": # 공백이라면\n",
    "        blank += 1\n",
    "    elif i.isdigit(): # 숫자라면\n",
    "        number += 1    \n",
    "    else:\n",
    "        print(\"영어 알파벳이 아니거나, 숫자, 공백이 아닙니다. 잘못된 접근 입니다.\")\n",
    "        break\n",
    "print(f\"공백 {blank}개, 알파벳 {alpha}개, 숫자 {number}개\")"
   ]
  },
  {
   "cell_type": "code",
   "execution_count": 29,
   "id": "bb7a3b16",
   "metadata": {},
   "outputs": [
    {
     "name": "stdout",
     "output_type": "stream",
     "text": [
      "\n",
      "사용자로부터 전화번호를 입력받아보면 \"-\"를 적는 경우가 생긴다.\n",
      "\"-\"을 합하여 입력받도록 하고, 출력할때는 \"-\"을 제거한 문자열을 출력한다.\n",
      "\n",
      "전화번호를 입력하세요010-2932-9323\n",
      "01029329323"
     ]
    }
   ],
   "source": [
    "pt = \"\"\"\n",
    "사용자로부터 전화번호를 입력받아보면 \"-\"를 적는 경우가 생긴다.\n",
    "\"-\"을 합하여 입력받도록 하고, 출력할때는 \"-\"을 제거한 문자열을 출력한다.\n",
    "\"\"\"\n",
    "print(pt)\n",
    "\n",
    "phone_num = input(\"전화번호를 입력하세요\").split(\"-\")\n",
    "\n",
    "for i in phone_num:\n",
    "    print(i, end=\"\")"
   ]
  },
  {
   "cell_type": "code",
   "execution_count": 30,
   "id": "9300d403",
   "metadata": {},
   "outputs": [
    {
     "name": "stdout",
     "output_type": "stream",
     "text": [
      "\n",
      "사용자로부터 전화번호를 입력받아보면 \"-\"를 적는 경우가 생긴다.\n",
      "\"-\"을 합하여 입력받도록 하고, 출력할때는 \"-\"을 제거한 문자열을 출력한다.\n",
      "\n",
      "전화번호를 입력하세요010-2323-1523\n",
      "new 전화번호 01023231523\n"
     ]
    }
   ],
   "source": [
    "pt = \"\"\"\n",
    "사용자로부터 전화번호를 입력받아보면 \"-\"를 적는 경우가 생긴다.\n",
    "\"-\"을 합하여 입력받도록 하고, 출력할때는 \"-\"을 제거한 문자열을 출력한다.\n",
    "\"\"\"\n",
    "print(pt)\n",
    "\n",
    "phone_num = input(\"전화번호를 입력하세요\")\n",
    "new_num = \"\"\n",
    "\n",
    "for i in phone_num:\n",
    "    if i != \"-\":\n",
    "        new_num += i\n",
    "print(\"new 전화번호\", new_num)"
   ]
  },
  {
   "cell_type": "code",
   "execution_count": 32,
   "id": "af63dc41",
   "metadata": {},
   "outputs": [
    {
     "name": "stdout",
     "output_type": "stream",
     "text": [
      "\n",
      "사용자로부터 전화번호를 입력받아보면 \"-\"를 적는 경우가 생긴다.\n",
      "\"-\"을 합하여 입력받도록 하고, 출력할때는 \"-\"을 제거한 문자열을 출력한다.\n",
      "\n",
      "전화번호를 입력하세요\n",
      "99999999999999\n",
      "전화번호 입력이 잘못되었습니다.\n"
     ]
    }
   ],
   "source": [
    "pt = \"\"\"\n",
    "사용자로부터 전화번호를 입력받아보면 \"-\"를 적는 경우가 생긴다.\n",
    "\"-\"을 합하여 입력받도록 하고, 출력할때는 \"-\"을 제거한 문자열을 출력한다.\n",
    "\"\"\"\n",
    "print(pt)\n",
    "\n",
    "phone_num = input(\"전화번호를 입력하세요\\n\")\n",
    "new_num = \"\"\n",
    "\n",
    "if len(phone_num) == 12 or len(phone_num) == 13:\n",
    "    for i in phone_num:\n",
    "        if i != \"-\":\n",
    "            new_num += i\n",
    "    print(\"new 전화번호\", new_num)\n",
    "\n",
    "else:\n",
    "    print(\"전화번호 입력이 잘못되었습니다.\")\n",
    "    "
   ]
  },
  {
   "cell_type": "code",
   "execution_count": null,
   "id": "71430751",
   "metadata": {},
   "outputs": [],
   "source": []
  }
 ],
 "metadata": {
  "kernelspec": {
   "display_name": "Python 3 (ipykernel)",
   "language": "python",
   "name": "python3"
  },
  "language_info": {
   "codemirror_mode": {
    "name": "ipython",
    "version": 3
   },
   "file_extension": ".py",
   "mimetype": "text/x-python",
   "name": "python",
   "nbconvert_exporter": "python",
   "pygments_lexer": "ipython3",
   "version": "3.8.12"
  }
 },
 "nbformat": 4,
 "nbformat_minor": 5
}
