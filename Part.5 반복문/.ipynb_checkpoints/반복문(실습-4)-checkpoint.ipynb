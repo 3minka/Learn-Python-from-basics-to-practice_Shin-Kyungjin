{
 "cells": [
  {
   "cell_type": "code",
   "execution_count": 16,
   "id": "91335b2d",
   "metadata": {},
   "outputs": [
    {
     "name": "stdout",
     "output_type": "stream",
     "text": [
      "\n",
      "반복문을 사용하여 사용자로부터 출력하고 싶은 구구단을 출력하는 프로그램\n",
      "\n",
      "원하는 구단을 입력하세요1\n",
      "잘못 입력하셨습니다.\n"
     ]
    }
   ],
   "source": [
    "pt = \"\"\"\n",
    "반복문을 사용하여 사용자로부터 출력하고 싶은 구구단을 출력하는 프로그램\n",
    "\"\"\"\n",
    "print(pt)\n",
    "\n",
    "user_gugudan = int(input(\"원하는 구단을 입력하세요\"))\n",
    "    \n",
    "for v in range(1, 10):\n",
    "    if user_gugudan < 2 or user_gugudan > 9:\n",
    "        print(\"단을 잘못 입력하셨습니다.\")\n",
    "        break\n",
    "    print(f\"{user_gugudan}*{v} = {user_gugudan*v}\")"
   ]
  },
  {
   "cell_type": "code",
   "execution_count": 26,
   "id": "091590f2",
   "metadata": {},
   "outputs": [
    {
     "name": "stdout",
     "output_type": "stream",
     "text": [
      "\n",
      "user에게 2개의 정수를 받아 입력받고, 첫번째 입력부터 두 번째 입력까지\n",
      "범위의 3의 배수이고, 4의 배수를 제외하고 출력하는 프로그램을 작성하자.\n",
      "\n",
      "2개의 정수를 입력해주세요. ex) 1 10\n",
      "30 1\n",
      "1  2  3  4  5  6  7  8  9  10  11  13  14  15  16  17  18  19  20  21  22  23  25  26  27  28  29  30  "
     ]
    }
   ],
   "source": [
    "pt = \"\"\"\n",
    "user에게 2개의 정수를 받아 입력받고, 첫번째 입력부터 두 번째 입력까지\n",
    "범위의 3의 배수이고, 4의 배수인 값을 제외하고 출력하는 프로그램을 작성하자.\n",
    "\"\"\"\n",
    "print(pt)\n",
    "\n",
    "\n",
    "num1, num2 = input(\"2개의 정수를 입력해주세요. ex) 1 10\\n\").split()\n",
    "num1 = int(num1)\n",
    "num2 = int(num2)\n",
    "\n",
    "if num1 > num2:\n",
    "    temp = num1\n",
    "    num1 = num2\n",
    "    num2 = temp\n",
    "for i in range(num1, num2+1):\n",
    "    if not ((i%3==0) and (i%4==0)):\n",
    "        print(f\"{i}\", end=\"  \")\n",
    "        \n",
    "#     if not ((i%3==0) or (i%4==0)):\n",
    "#         print(f\"{i}\", end=\"  \")"
   ]
  },
  {
   "cell_type": "code",
   "execution_count": null,
   "id": "5412496f",
   "metadata": {},
   "outputs": [],
   "source": []
  }
 ],
 "metadata": {
  "kernelspec": {
   "display_name": "Python 3 (ipykernel)",
   "language": "python",
   "name": "python3"
  },
  "language_info": {
   "codemirror_mode": {
    "name": "ipython",
    "version": 3
   },
   "file_extension": ".py",
   "mimetype": "text/x-python",
   "name": "python",
   "nbconvert_exporter": "python",
   "pygments_lexer": "ipython3",
   "version": "3.8.12"
  }
 },
 "nbformat": 4,
 "nbformat_minor": 5
}
