{
 "cells": [
  {
   "cell_type": "code",
   "execution_count": 1,
   "id": "f86019a2",
   "metadata": {},
   "outputs": [
    {
     "name": "stdout",
     "output_type": "stream",
     "text": [
      "hello world\n",
      "hello world\n",
      "hello world\n",
      "hello world\n",
      "hello world\n"
     ]
    }
   ],
   "source": [
    "for i in range(5):\n",
    "    print(\"hello world\")"
   ]
  },
  {
   "cell_type": "code",
   "execution_count": 2,
   "id": "83cd00e1",
   "metadata": {},
   "outputs": [
    {
     "name": "stdout",
     "output_type": "stream",
     "text": [
      "hello world\n",
      "hello world\n",
      "hello world\n",
      "hello world\n",
      "hello world\n"
     ]
    }
   ],
   "source": [
    "x_list = [1,2,3,4,5]\n",
    "for i in x_list:\n",
    "    print(\"hello world\")"
   ]
  },
  {
   "cell_type": "code",
   "execution_count": 3,
   "id": "04adb233",
   "metadata": {},
   "outputs": [
    {
     "name": "stdout",
     "output_type": "stream",
     "text": [
      "<class 'range'>\n"
     ]
    }
   ],
   "source": [
    "print(type(range(5)))"
   ]
  },
  {
   "cell_type": "code",
   "execution_count": 7,
   "id": "c1660b0e",
   "metadata": {},
   "outputs": [
    {
     "name": "stdout",
     "output_type": "stream",
     "text": [
      "hello world\thello world\thello world\thello world\thello world\t"
     ]
    }
   ],
   "source": [
    "x_list = [1,2,3,4,5]\n",
    "for i in x_list:\n",
    "    print(\"hello world\", end=\"\\t\")"
   ]
  },
  {
   "cell_type": "code",
   "execution_count": 12,
   "id": "d000f151",
   "metadata": {},
   "outputs": [
    {
     "name": "stdout",
     "output_type": "stream",
     "text": [
      "55\n"
     ]
    }
   ],
   "source": [
    "x_sum = 0\n",
    "for value in range(11):\n",
    "    x_sum += value\n",
    "print(x_sum)"
   ]
  },
  {
   "cell_type": "code",
   "execution_count": 17,
   "id": "e9429d3d",
   "metadata": {},
   "outputs": [
    {
     "name": "stdout",
     "output_type": "stream",
     "text": [
      "5050\n",
      "2550\n",
      "1683\n"
     ]
    }
   ],
   "source": [
    "x_sum = 0\n",
    "for value in range(0, 101, 1):\n",
    "    x_sum += value\n",
    "print(x_sum)\n",
    "\n",
    "x_sum = 0\n",
    "for value in range(0, 101, 2):\n",
    "    x_sum += value\n",
    "print(x_sum)\n",
    "\n",
    "x_sum = 0\n",
    "for value in range(0, 101, 3):\n",
    "    x_sum += value\n",
    "print(x_sum)"
   ]
  },
  {
   "cell_type": "code",
   "execution_count": 19,
   "id": "57acb765",
   "metadata": {},
   "outputs": [
    {
     "name": "stdout",
     "output_type": "stream",
     "text": [
      "S h i i   E i i n   S i i m "
     ]
    }
   ],
   "source": [
    "s_word = \"Shii Eiin Siim\"\n",
    "\n",
    "for i in range(len(s_word)):\n",
    "    print(s_word[i], end=\" \")\n"
   ]
  },
  {
   "cell_type": "code",
   "execution_count": null,
   "id": "151ca555",
   "metadata": {},
   "outputs": [],
   "source": []
  }
 ],
 "metadata": {
  "kernelspec": {
   "display_name": "Python 3 (ipykernel)",
   "language": "python",
   "name": "python3"
  },
  "language_info": {
   "codemirror_mode": {
    "name": "ipython",
    "version": 3
   },
   "file_extension": ".py",
   "mimetype": "text/x-python",
   "name": "python",
   "nbconvert_exporter": "python",
   "pygments_lexer": "ipython3",
   "version": "3.8.12"
  }
 },
 "nbformat": 4,
 "nbformat_minor": 5
}
