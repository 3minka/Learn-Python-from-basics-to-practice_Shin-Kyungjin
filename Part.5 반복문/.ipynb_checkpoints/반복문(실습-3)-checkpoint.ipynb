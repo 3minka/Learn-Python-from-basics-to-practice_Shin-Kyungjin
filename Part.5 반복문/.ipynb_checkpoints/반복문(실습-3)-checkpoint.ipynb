{
 "cells": [
  {
   "cell_type": "code",
   "execution_count": 6,
   "id": "91335b2d",
   "metadata": {},
   "outputs": [
    {
     "name": "stdout",
     "output_type": "stream",
     "text": [
      "\n",
      "반복문을 사용하여 factorial를 구해보자. \n",
      "\n",
      "1부터 정수 n의 곱들을 factorical이라 하자.\n",
      "\n",
      "정수를 입력하세요. factorial를 구할것입니다.\n",
      "5\n",
      "5값을 입력하셨고, fatorical 결과 120.0값이 정답입니다.\n"
     ]
    }
   ],
   "source": [
    "pt = \"\"\"\n",
    "반복문을 사용하여 factorial를 구해보자. \n",
    "1부터 정수 n의 곱들을 factorical이라 하자.\n",
    "\"\"\"\n",
    "print(pt)\n",
    "\n",
    "user_num = int(input(\"정수를 입력하세요. factorial를 구할것입니다.\\n\"))\n",
    "\n",
    "mul = 1.0\n",
    "for i in range(1, user_num+1):\n",
    "    mul *= i\n",
    "    \n",
    "print(f\"{user_num}값을 입력하셨고, fatorical 결과 {mul}값이 정답입니다.\")"
   ]
  },
  {
   "cell_type": "code",
   "execution_count": 24,
   "id": "c8f98746",
   "metadata": {},
   "outputs": [
    {
     "name": "stdout",
     "output_type": "stream",
     "text": [
      "\n",
      "반복문을 사용하여 피보나치 수열을 구해보자. \n",
      "피보나치 수열 앞에 2개의 수를 더해서 다음수를 정한다.\n",
      "피보나치 = (i+ (i+1)) = (i+2)\n",
      "p1 = 1\n",
      "p2 = 1\n",
      "p3 = 2\n",
      "p4 = 3\n",
      "\n",
      "정수를 입력하세요. 피보나치를 구할것입니다.\n",
      "38\n",
      "1 1 2 3 5 8 13 21 34 "
     ]
    }
   ],
   "source": [
    "pt = \"\"\"\n",
    "반복문을 사용하여 피보나치 수열을 구해보자. \n",
    "피보나치 수열 앞에 2개의 수를 더해서 다음수를 정한다.\n",
    "피보나치 = (i+ (i+1)) = (i+2)\n",
    "p1 = 1\n",
    "p2 = 1\n",
    "p3 = 2\n",
    "p4 = 3\n",
    "\"\"\"\n",
    "print(pt)\n",
    "\n",
    "user_num = int(input(\"정수를 입력하세요. 피보나치를 구할것입니다.\\n\"))\n",
    "piboNaci_2 = 1 \n",
    "piboNaci_1 = 1\n",
    "piboNaci_3 = 1\n",
    "\n",
    "for i in range(1, user_num+1):\n",
    "    if i < 3:\n",
    "        piboNaci_3 = 1\n",
    "    else:\n",
    "        piboNaci_3 = piboNaci_1 + piboNaci_2\n",
    "        piboNaci_1 = piboNaci_2\n",
    "        piboNaci_2 = piboNaci_3\n",
    "        \n",
    "    if piboNaci_3 < user_num:\n",
    "        print(f\"{piboNaci_3}\", end=\" \")"
   ]
  },
  {
   "cell_type": "code",
   "execution_count": 35,
   "id": "1ee96df8",
   "metadata": {},
   "outputs": [
    {
     "name": "stdout",
     "output_type": "stream",
     "text": [
      "\n",
      "화씨온도-섭씨온도 변환 테이블을 출력하는 프로그램\n",
      "for문을 사용하여, 실수로 나타내도록 한다.\n",
      "화씨 0도부터 100도 까지 10도 단위로 증가시키면서 대응하는 섭씨온도를 출력한다.\n",
      "화씨 : F\n",
      "섭씨온도 : (F-32)*5/9\n",
      "\n",
      "화씨온도 : 0도\n",
      "섭씨온도 : -17.78도 입니다. \n",
      "\n",
      "화씨온도 : 20도\n",
      "섭씨온도 : -6.67도 입니다. \n",
      "\n",
      "화씨온도 : 40도\n",
      "섭씨온도 : 4.44도 입니다. \n",
      "\n",
      "화씨온도 : 60도\n",
      "섭씨온도 : 15.56도 입니다. \n",
      "\n",
      "화씨온도 : 80도\n",
      "섭씨온도 : 26.67도 입니다. \n",
      "\n",
      "화씨온도 : 100도\n",
      "섭씨온도 : 37.78도 입니다. \n",
      "\n"
     ]
    }
   ],
   "source": [
    "pt = \"\"\"\n",
    "화씨온도-섭씨온도 변환 테이블을 출력하는 프로그램\n",
    "for문을 사용하여, 실수로 나타내도록 한다.\n",
    "화씨 0도부터 100도 까지 20도 단위로 증가시키면서 대응하는 섭씨온도를 출력한다.\n",
    "화씨 : F\n",
    "섭씨온도 : (F-32)*5/9\n",
    "\"\"\"\n",
    "print(pt)\n",
    "\n",
    "\n",
    "for f in range(0, 101, 20):\n",
    "    print(\"화씨온도 :\", str(f) + \"도\")\n",
    "    print(f\"섭씨온도 : {round((((f-32)*5)/9), 2)}도 입니다. \\n\")"
   ]
  },
  {
   "cell_type": "code",
   "execution_count": null,
   "id": "c8d4ac84",
   "metadata": {},
   "outputs": [],
   "source": []
  }
 ],
 "metadata": {
  "kernelspec": {
   "display_name": "Python 3 (ipykernel)",
   "language": "python",
   "name": "python3"
  },
  "language_info": {
   "codemirror_mode": {
    "name": "ipython",
    "version": 3
   },
   "file_extension": ".py",
   "mimetype": "text/x-python",
   "name": "python",
   "nbconvert_exporter": "python",
   "pygments_lexer": "ipython3",
   "version": "3.8.12"
  }
 },
 "nbformat": 4,
 "nbformat_minor": 5
}
