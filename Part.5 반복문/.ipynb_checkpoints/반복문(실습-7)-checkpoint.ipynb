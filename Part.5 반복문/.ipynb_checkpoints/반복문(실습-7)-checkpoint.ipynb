{
 "cells": [
  {
   "cell_type": "code",
   "execution_count": 7,
   "id": "91335b2d",
   "metadata": {},
   "outputs": [
    {
     "name": "stdout",
     "output_type": "stream",
     "text": [
      "\n",
      "user로부터 상품금액을 입력받아서 상품의 총 가격을 계산하는 프로그램 작성.\n",
      "사용자가 \"끝\"이라고 입력하면 무한루프를 탈출하게끔 조건을 준다. \n",
      "\n",
      "프로그램을 종료하려면 \"끝\"이라고 작성해주세요. \n",
      "상품 금액을 입력해주세요.끝\n",
      "총 0원 이며, 상품의 개수는 0개 입니다.\n"
     ]
    }
   ],
   "source": [
    "pt = \"\"\"\n",
    "user로부터 상품금액을 입력받아서 상품의 총 가격을 계산하는 프로그램 작성.\n",
    "사용자가 \"끝\"이라고 입력하면 무한루프를 탈출하게끔 조건을 준다. \n",
    "\"\"\"\n",
    "print(pt)\n",
    "\n",
    "print(\"프로그램을 종료하려면 \\\"끝\\\"이라고 작성해주세요. \")\n",
    "cnt = 0\n",
    "hap = 0\n",
    "\n",
    "while cnt >= 0:\n",
    "    user_price = input(\"상품 금액을 입력해주세요.\")\n",
    "    if user_price == \"끝\":\n",
    "        print(f\"총 {hap}원 이며, 상품의 개수는 {cnt}개 입니다.\")\n",
    "        cnt = -1\n",
    "        continue\n",
    "    user_price = int(user_price)\n",
    "    hap += user_price\n",
    "    cnt += 1    "
   ]
  },
  {
   "cell_type": "code",
   "execution_count": null,
   "id": "9db3e3d7",
   "metadata": {},
   "outputs": [],
   "source": [
    "pt = \"\"\"\n",
    "user로부터 상품금액을 입력받아서 상품의 총 가격을 계산하는 프로그램 작성.\n",
    "사용자가 \"끝\"이라고 입력하면 무한루프를 탈출하게끔 조건을 준다. \n",
    "\"\"\"\n",
    "print(pt)\n",
    "\n",
    "from operator import eq\n",
    "print(\"프로그램을 종료하려면 \\\"끝\\\"이라고 작성해주세요. \")\n",
    "cnt = 0\n",
    "hap = 0\n",
    "\n",
    "while cnt >= 0:\n",
    "    user_price = input(\"상품 금액을 입력해주세요.\")\n",
    "    if user_price.eq(\"끝\"): # if eq(user_price, \"끝\"):\n",
    "        print(f\"총 {hap}원 이며, 상품의 개수는 {cnt}개 입니다.\")\n",
    "        cnt = -1\n",
    "        continue\n",
    "    user_price = int(user_price)\n",
    "    hap += user_price\n",
    "    cnt += 1    "
   ]
  },
  {
   "cell_type": "code",
   "execution_count": 16,
   "id": "8c332584",
   "metadata": {},
   "outputs": [
    {
     "name": "stdout",
     "output_type": "stream",
     "text": [
      "\n",
      "1. 증속 2.감속 3. 중지를 출력하고 사용자의 입력을 1,2,3 받아서\n",
      "증속을 하면 속도를 10씩 증가하고 출력\n",
      "감속을 하면 속도를 10씩 감소하고 출력\n",
      "중지을 하면 플래그 변수를 이용하여 무한 루프를 빠져나간다.\n",
      "\n",
      "--------------------------------------------------\n",
      "1. 증속  |  2. 감속,  |  3. 중지\n",
      "ex) 증속 -> 1을 선택하세요. \n",
      "선택 : 1\n",
      "--------------------------------------------------\n",
      " 증가 => 현재 속도 : 10\n",
      "--------------------------------------------------\n",
      "1. 증속  |  2. 감속,  |  3. 중지\n",
      "ex) 증속 -> 1을 선택하세요. \n",
      "선택 : 2\n",
      "--------------------------------------------------\n",
      " 감소 => 현재 속도 : 0\n",
      "--------------------------------------------------\n",
      "1. 증속  |  2. 감속,  |  3. 중지\n",
      "ex) 증속 -> 1을 선택하세요. \n",
      "선택 : 1\n",
      "--------------------------------------------------\n",
      " 증가 => 현재 속도 : 10\n",
      "--------------------------------------------------\n",
      "1. 증속  |  2. 감속,  |  3. 중지\n",
      "ex) 증속 -> 1을 선택하세요. \n",
      "선택 : 3\n",
      "--------------------------------------------------\n",
      " 중지를 선택하셔서 멈추겠습니다.\n"
     ]
    }
   ],
   "source": [
    "pt = \"\"\"\n",
    "1. 증속 2.감속 3. 중지를 출력하고 사용자의 입력을 1,2,3 받아서\n",
    "증속을 하면 속도를 10씩 증가하고 출력\n",
    "감속을 하면 속도를 10씩 감소하고 출력\n",
    "중지을 하면 플래그 변수를 이용하여 무한 루프를 빠져나간다.\n",
    "\"\"\"\n",
    "print(pt)\n",
    "\n",
    "flag = 0\n",
    "speed = 0\n",
    "while flag >= 0:\n",
    "    print('-'*50)\n",
    "    print(\"1. 증속  |  2. 감속,  |  3. 중지\")\n",
    "    user_num = int(input(\"ex) 증속 -> 1을 선택하세요. \\n선택 : \"))\n",
    "    print('-'*50)\n",
    "    if user_num == 1:\n",
    "        speed += 10\n",
    "        print(\" 증가 => 현재 속도 :\", speed)\n",
    "    elif user_num == 2:\n",
    "        speed -= 10\n",
    "        if speed < 0:\n",
    "            print(\" 속도가 현재 zero 입니다.\")\n",
    "            speed = 0\n",
    "        else:\n",
    "            print(\" 감소 => 현재 속도 :\", speed)\n",
    "    elif user_num == 3:\n",
    "        flag = -1\n",
    "        print(\" 중지를 선택하셔서 멈추겠습니다.\")\n",
    "    else:\n",
    "        print('잘못선택하셨습니다.')        "
   ]
  },
  {
   "cell_type": "code",
   "execution_count": null,
   "id": "2a03d6ff",
   "metadata": {},
   "outputs": [],
   "source": []
  }
 ],
 "metadata": {
  "kernelspec": {
   "display_name": "Python 3 (ipykernel)",
   "language": "python",
   "name": "python3"
  },
  "language_info": {
   "codemirror_mode": {
    "name": "ipython",
    "version": 3
   },
   "file_extension": ".py",
   "mimetype": "text/x-python",
   "name": "python",
   "nbconvert_exporter": "python",
   "pygments_lexer": "ipython3",
   "version": "3.8.12"
  }
 },
 "nbformat": 4,
 "nbformat_minor": 5
}
