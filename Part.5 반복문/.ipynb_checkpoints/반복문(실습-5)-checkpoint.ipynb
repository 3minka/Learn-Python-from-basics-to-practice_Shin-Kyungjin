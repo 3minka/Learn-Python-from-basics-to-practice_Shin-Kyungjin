{
 "cells": [
  {
   "cell_type": "code",
   "execution_count": 58,
   "id": "91335b2d",
   "metadata": {},
   "outputs": [
    {
     "name": "stdout",
     "output_type": "stream",
     "text": [
      "\n",
      "반복문을 사용하여 \n",
      "정수의 각 자리수의 합을 계산하는 프로그램\n",
      "\n",
      "10234 -> 1+0+2+3+4\n",
      "\n",
      "원하는 정수를 입력하세요1234\n",
      "1234의 각 자리수의 합은 10입니다.\n"
     ]
    }
   ],
   "source": [
    "pt = \"\"\"\n",
    "반복문을 사용하여 \n",
    "정수의 각 자리수의 합을 계산하는 프로그램\n",
    "\n",
    "10234 -> 1+0+2+3+4\n",
    "\"\"\"\n",
    "print(pt)\n",
    "\n",
    "num = int(input(\"원하는 정수를 입력하세요\"))\n",
    "\n",
    "num_minus = num\n",
    "while True:\n",
    "    sum_list = []\n",
    "    \n",
    "    for i in range((num%10), -1, -1):\n",
    "        num_size = 10**i\n",
    "        if i == 0:\n",
    "            sum_list.append(num_minus)\n",
    "            break\n",
    "        sum_list.append(num_minus//num_size)\n",
    "        num_minus -= ((num_minus//num_size)*num_size)     \n",
    "    break\n",
    "print(f'{num}의 각 자리수의 합은 {sum(sum_list)}입니다.')"
   ]
  },
  {
   "cell_type": "code",
   "execution_count": 61,
   "id": "5e7d09a6",
   "metadata": {},
   "outputs": [
    {
     "name": "stdout",
     "output_type": "stream",
     "text": [
      "원하는 정수를 입력하세요10234\n",
      "0의 각 자리수의 합은 10입니다.\n"
     ]
    }
   ],
   "source": [
    "num = int(input(\"원하는 정수를 입력하세요\"))\n",
    "hap = 0\n",
    "\n",
    "while num > 0:\n",
    "    digit = num % 10\n",
    "    hap += digit\n",
    "    num = num // 10\n",
    "\n",
    "print(f'{num}의 각 자리수의 합은 {hap}입니다.')"
   ]
  },
  {
   "cell_type": "code",
   "execution_count": null,
   "id": "0ea6b0a1",
   "metadata": {},
   "outputs": [],
   "source": []
  }
 ],
 "metadata": {
  "kernelspec": {
   "display_name": "Python 3 (ipykernel)",
   "language": "python",
   "name": "python3"
  },
  "language_info": {
   "codemirror_mode": {
    "name": "ipython",
    "version": 3
   },
   "file_extension": ".py",
   "mimetype": "text/x-python",
   "name": "python",
   "nbconvert_exporter": "python",
   "pygments_lexer": "ipython3",
   "version": "3.8.12"
  }
 },
 "nbformat": 4,
 "nbformat_minor": 5
}
