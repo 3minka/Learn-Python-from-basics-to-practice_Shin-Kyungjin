{
 "cells": [
  {
   "cell_type": "code",
   "execution_count": 8,
   "id": "91335b2d",
   "metadata": {},
   "outputs": [
    {
     "name": "stdout",
     "output_type": "stream",
     "text": [
      "\n",
      "사용자로부터 임의의 개수의 성적을 입력받아서 합계와 평균을 계산한 후\n",
      "출력하는 프로그램.센티널은 음수의 값을 사용하시오. \n",
      "\n",
      "출력\n",
      "\n",
      "종료시 음수의 값을 입력하시오. ex) -1\n",
      "\n",
      "1번째 학생 성적을 입력하시오.\n",
      "100\n",
      "2번째 학생 성적을 입력하시오.\n",
      "50\n",
      "3번째 학생 성적을 입력하시오.\n",
      "70\n",
      "4번째 학생 성적을 입력하시오.\n",
      "-1\n",
      "3명 학생의 평균 73.33, 합 220 \n"
     ]
    }
   ],
   "source": [
    "pt = \"\"\"\n",
    "사용자로부터 임의의 개수의 성적을 입력받아서 합계와 평균을 계산한 후\n",
    "출력하는 프로그램.센티널은 음수의 값을 사용하시오. \n",
    "\n",
    "출력\n",
    "\"\"\"\n",
    "print(pt)\n",
    "\n",
    "cnt = 0 #학생수\n",
    "hap = 0 \n",
    "score = 0\n",
    "mean_ = 0\n",
    "\n",
    "# 센티널을 사용자에 제시하는 코드\n",
    "print(\"종료시 음수의 값을 입력하시오. ex) -1\\n\")\n",
    "\n",
    "while score >= 0:\n",
    "    score = int(input(str(cnt+1) + \"번째 학생 성적을 입력하시오.\\n\"))\n",
    "    if score >= 0:\n",
    "        hap += score\n",
    "        cnt += 1\n",
    "if cnt > 0:\n",
    "    mean_ = round(hap/cnt, 2)\n",
    "    \n",
    "print(f\"{cnt}명 학생의 평균 {mean_}점, 합 {hap}점 \")"
   ]
  },
  {
   "cell_type": "code",
   "execution_count": 24,
   "id": "0ea6b0a1",
   "metadata": {},
   "outputs": [
    {
     "name": "stdout",
     "output_type": "stream",
     "text": [
      "\n",
      "임의의 숫자를 발생시켜, 사용자에게 숫자를 받아서 맞추는 게임을 만들어보기\n",
      "\n",
      "\n",
      "1부터 100사이의 숫자를 맞추기\n",
      "발생한 난수 값 96\n",
      "숫자를 입력하세요.\n",
      "96\n",
      "정답입니다. 1회 만에 맞추었습니다.\n",
      "게임을 재시작 하겠습니까? ex) YES -> y, No-> n\n",
      "y\n",
      "-------------------------------------------------------\n",
      "발생한 난수 값 15\n",
      "숫자를 입력하세요.\n",
      "30\n",
      "입력한 숫자가 난수보다 높습니다. 숫자를 내리세요.\n",
      "발생한 난수 값 15\n",
      "숫자를 입력하세요.\n",
      "15\n",
      "정답입니다. 2회 만에 맞추었습니다.\n",
      "게임을 재시작 하겠습니까? ex) YES -> y, No-> n\n",
      "n\n",
      "-------------------------------------------------------\n",
      "10회 동안 맞추지 못하셨습니다. 종료합니다.\n"
     ]
    }
   ],
   "source": [
    "pt = \"\"\"\n",
    "임의의 숫자를 발생시켜, 사용자에게 숫자를 받아서 맞추는 게임을 만들어보기\n",
    "\n",
    "\"\"\"\n",
    "print(pt)\n",
    "\n",
    "from random import *\n",
    "\n",
    "cnt = 0\n",
    "print(\"1부터 100사이의 숫자를 맞추기\")\n",
    "\n",
    "num = randint(1, 100)\n",
    "while cnt < 10:\n",
    "    print(\"발생한 난수 값\", num)\n",
    "    user_num = int(input(\"숫자를 입력하세요.\\n\"))\n",
    "    cnt += 1\n",
    "    \n",
    "    if user_num == num:\n",
    "        print(f\"정답입니다. {cnt}회 만에 맞추었습니다.\")\n",
    "        \n",
    "        re_user = input(\"게임을 재시작 하겠습니까? ex) YES -> y, No-> n\\n\")\n",
    "        print(\"-\"*55)\n",
    "        if re_user == 'y':\n",
    "            num = randint(1, 100)\n",
    "            cnt = 0\n",
    "            continue\n",
    "        else:\n",
    "            break\n",
    "    elif user_num < num:\n",
    "        print(\"입력한 숫자가 난수보다 작습니다. 숫자를 올리세요.\")\n",
    "    elif user_num > num:\n",
    "        print(\"입력한 숫자가 난수보다 높습니다. 숫자를 내리세요.\")\n",
    "\n",
    "print(\"10회 동안 맞추지 못하셨습니다. 종료합니다.\")"
   ]
  },
  {
   "cell_type": "markdown",
   "id": "754c7d98",
   "metadata": {},
   "source": [
    "#### "
   ]
  }
 ],
 "metadata": {
  "kernelspec": {
   "display_name": "Python 3 (ipykernel)",
   "language": "python",
   "name": "python3"
  },
  "language_info": {
   "codemirror_mode": {
    "name": "ipython",
    "version": 3
   },
   "file_extension": ".py",
   "mimetype": "text/x-python",
   "name": "python",
   "nbconvert_exporter": "python",
   "pygments_lexer": "ipython3",
   "version": "3.8.12"
  }
 },
 "nbformat": 4,
 "nbformat_minor": 5
}
