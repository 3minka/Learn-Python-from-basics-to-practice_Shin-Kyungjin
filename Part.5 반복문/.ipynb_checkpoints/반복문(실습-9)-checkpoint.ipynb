{
 "cells": [
  {
   "cell_type": "code",
   "execution_count": 15,
   "id": "91335b2d",
   "metadata": {},
   "outputs": [
    {
     "name": "stdout",
     "output_type": "stream",
     "text": [
      "\n",
      "중첩 루프, 반복문 안에 또 다른 반복문\n",
      "\n",
      "        *\n",
      "       ***\n",
      "      *****\n",
      "     *******\n",
      "    *********\n",
      "   ***********\n",
      "  *************\n",
      " ***************\n",
      "*****************\n"
     ]
    }
   ],
   "source": [
    "pt = \"\"\"\n",
    "중첩 루프, 반복문 안에 또 다른 반복문\n",
    "\"\"\"\n",
    "print(pt)\n",
    "\n",
    "x = 9\n",
    "for i in range(1, x+1):\n",
    "    for j in range(x-i): #공백을 생각\n",
    "        print(\" \", end=\"\")\n",
    "    for j in range(1, i*2): # *을 생각\n",
    "        print(\"*\", end=\"\")\n",
    "    print(\"\")"
   ]
  },
  {
   "cell_type": "code",
   "execution_count": 27,
   "id": "8504ae5e",
   "metadata": {},
   "outputs": [
    {
     "name": "stdout",
     "output_type": "stream",
     "text": [
      "\n",
      "중첩 루프, 반복문 안에 또 다른 반복문\n",
      "\n",
      "    *     \n",
      "   ***    \n",
      "  *****   \n",
      " *******  \n",
      "********* \n"
     ]
    }
   ],
   "source": [
    "pt = \"\"\"\n",
    "중첩 루프, 반복문 안에 또 다른 반복문\n",
    "\"\"\"\n",
    "print(pt)\n",
    "\n",
    "x = 11\n",
    "for i in range(1, x, 2):\n",
    "    print(\"{:^10}\".format(\"*\"*i)) # 중앙정렬 ^"
   ]
  },
  {
   "cell_type": "code",
   "execution_count": 41,
   "id": "f9c89f91",
   "metadata": {
    "scrolled": true
   },
   "outputs": [
    {
     "name": "stdout",
     "output_type": "stream",
     "text": [
      "\n",
      "중첩 루프, 반복문 안에 또 다른 반복문\n",
      "\n",
      "       *\n",
      "      ***\n",
      "     *****\n",
      "    *******\n",
      "   *********\n",
      "  ***********\n",
      " *************\n",
      "***************\n",
      "***************\n",
      " *************\n",
      "  ***********\n",
      "   *********\n",
      "    *******\n",
      "     *****\n",
      "      ***\n",
      "       *\n"
     ]
    }
   ],
   "source": [
    "pt = \"\"\"\n",
    "중첩 루프, 반복문 안에 또 다른 반복문\n",
    "\"\"\"\n",
    "print(pt)\n",
    "\n",
    "x = 8\n",
    "for i in range(1, x+1):\n",
    "    for j in range(x-i): #공백을 생각\n",
    "        print(\" \", end=\"\")\n",
    "    for j in range(1, i*2): # *을 생각\n",
    "        print(\"*\", end=\"\")\n",
    "    print(\"\")\n",
    "for i in range(x, 0, -1):\n",
    "    for j in range(x-i): #공백을 생각\n",
    "        print(\" \", end=\"\")\n",
    "    for j in range(1, i*2): # *을 생각\n",
    "        print(\"*\", end=\"\")\n",
    "    print(\"\")"
   ]
  },
  {
   "cell_type": "code",
   "execution_count": 45,
   "id": "73b7a8a8",
   "metadata": {},
   "outputs": [
    {
     "name": "stdout",
     "output_type": "stream",
     "text": [
      "\n",
      "소수를 2부터 계속 더할때, 2000보다 작은 최대합은 얼마?\n",
      "마지막 더해지는 소수는 얼마인가 ?\n",
      "\n",
      "소수 : 139\n",
      "합계 : 2127\n",
      "마지막의 소수값 139\n",
      "\n"
     ]
    }
   ],
   "source": [
    "pt = \"\"\"\n",
    "소수를 2부터 계속 더할때, 2000보다 작은 최대합은 얼마?\n",
    "마지막 더해지는 소수는 얼마인가 ?\n",
    "\"\"\"\n",
    "print(pt)\n",
    "\n",
    "start = 0\n",
    "num = 0\n",
    "hap = 0\n",
    "last_sosu = 0\n",
    "\n",
    "for num in range(2, 2001):\n",
    "    for start in range(2, num+1):\n",
    "        if num%start == 0: #배수이거나 소수임\n",
    "            break\n",
    "    if num == start:\n",
    "        hap += start\n",
    "        if hap > 2000:\n",
    "            print('소수 :',start)\n",
    "            print(\"합계 :\", hap)\n",
    "            last_sosu = start\n",
    "            print(\"마지막의 소수값\", last_sosu)\n",
    "            break\n"
   ]
  },
  {
   "cell_type": "code",
   "execution_count": null,
   "id": "41c23212",
   "metadata": {},
   "outputs": [],
   "source": []
  }
 ],
 "metadata": {
  "kernelspec": {
   "display_name": "Python 3 (ipykernel)",
   "language": "python",
   "name": "python3"
  },
  "language_info": {
   "codemirror_mode": {
    "name": "ipython",
    "version": 3
   },
   "file_extension": ".py",
   "mimetype": "text/x-python",
   "name": "python",
   "nbconvert_exporter": "python",
   "pygments_lexer": "ipython3",
   "version": "3.8.12"
  }
 },
 "nbformat": 4,
 "nbformat_minor": 5
}
