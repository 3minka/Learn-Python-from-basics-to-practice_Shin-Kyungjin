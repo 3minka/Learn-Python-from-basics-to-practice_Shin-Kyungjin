{
 "cells": [
  {
   "cell_type": "code",
   "execution_count": 4,
   "id": "91335b2d",
   "metadata": {},
   "outputs": [
    {
     "name": "stdout",
     "output_type": "stream",
     "text": [
      "\n",
      "1부터 ~ 사용자가 입력한 num까지 합계를 더하는 프로그램을 for문으로 구현하자.\n",
      "\n",
      "\n",
      "\n",
      "숫자를 입력해주세요.\n",
      "2000\n",
      "2000값을 입력하셨고, 최종합은 2001000값 입니다.\n"
     ]
    }
   ],
   "source": [
    "pt = \"\"\"\n",
    "1부터 ~ 사용자가 입력한 num까지 합계를 더하는 프로그램을 for문으로 구현하자.\n",
    "\"\"\"\n",
    "print(pt)\n",
    "\n",
    "user_num = int(input(\"숫자를 입력해주세요.\\n\"))\n",
    "\n",
    "hap = 0\n",
    "for i in range(1, user_num+1):\n",
    "    hap += i\n",
    "print(f\"{user_num}값을 입력하셨고, 최종합은 {hap}값 입니다.\")"
   ]
  },
  {
   "cell_type": "code",
   "execution_count": 10,
   "id": "fa3bce8b",
   "metadata": {},
   "outputs": [
    {
     "name": "stdout",
     "output_type": "stream",
     "text": [
      "\n",
      "1~100까지 합계를 구할때, 누적값이 2000을 넘어서면 반복문을 빠져나와야함.\n",
      "그리고, 2000을 넘을때까지의 합했을때, 마지막 인자를 출력하시오\n",
      "디버깅: 에러를 잡아나가는 과정\n",
      "\n",
      "2016이 2000이 넘었습니다. 이때 마지막 인자는 63값 입니다.\n"
     ]
    }
   ],
   "source": [
    "pt = \"\"\"\n",
    "1~100까지 합계를 구할때, 누적값이 2000을 넘어서면 반복문을 빠져나와야함.\n",
    "그리고, 2000을 넘을때까지의 합했을때, 마지막 인자를 출력하시오\n",
    "디버깅: 에러를 잡아나가는 과정\n",
    "\"\"\"\n",
    "\n",
    "print(pt)\n",
    "\n",
    "hap = 0\n",
    "for i in range(1, 101):\n",
    "    if hap >= 2000:\n",
    "        print(f\"{hap}이 2000이 넘었습니다. 이때 마지막 인자는 {i-1}값 입니다.\")\n",
    "        break\n",
    "    else:\n",
    "        hap += i"
   ]
  },
  {
   "cell_type": "code",
   "execution_count": null,
   "id": "c8f98746",
   "metadata": {},
   "outputs": [],
   "source": []
  }
 ],
 "metadata": {
  "kernelspec": {
   "display_name": "Python 3 (ipykernel)",
   "language": "python",
   "name": "python3"
  },
  "language_info": {
   "codemirror_mode": {
    "name": "ipython",
    "version": 3
   },
   "file_extension": ".py",
   "mimetype": "text/x-python",
   "name": "python",
   "nbconvert_exporter": "python",
   "pygments_lexer": "ipython3",
   "version": "3.8.12"
  }
 },
 "nbformat": 4,
 "nbformat_minor": 5
}
