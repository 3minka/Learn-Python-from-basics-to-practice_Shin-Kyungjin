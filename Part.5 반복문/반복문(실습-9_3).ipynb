{
 "cells": [
  {
   "cell_type": "code",
   "execution_count": 10,
   "id": "91335b2d",
   "metadata": {},
   "outputs": [
    {
     "name": "stdout",
     "output_type": "stream",
     "text": [
      "\n",
      "반복문으로 문자열 처리하기\n",
      "입력받은 문자열의 모든 공백을 제거한 문자열을 출력하는 프로그램\n",
      "\n",
      "문자열을 입력하세요. \n",
      "askd ㅏㅁㄴ아 2303 asdkqwe\n",
      "결과 askdㅏㅁㄴ아asdkqwe, 제거된 개수 7 개\n"
     ]
    }
   ],
   "source": [
    "pt = \"\"\"\n",
    "반복문으로 문자열 처리하기\n",
    "입력받은 문자열의 모든 공백을 제거한 문자열을 출력하는 프로그램\n",
    "\"\"\"\n",
    "print(pt)\n",
    "\n",
    "user_str = input(\"문자열을 입력하세요. \\n\")\n",
    "\n",
    "new_str = \"\"\n",
    "\n",
    "exit = 0\n",
    "for i in user_str:\n",
    "    if i.isalpha():\n",
    "        new_str += i\n",
    "    else:\n",
    "        exit += 1\n",
    "print(\"결과\", new_str + \", 제거된 개수\", exit, \"개\")"
   ]
  },
  {
   "cell_type": "code",
   "execution_count": 16,
   "id": "15ee0057",
   "metadata": {},
   "outputs": [
    {
     "name": "stdout",
     "output_type": "stream",
     "text": [
      "문자열을 입력하세요 \n",
      "abcd efgh\n",
      "문자열이 아닌 수 : 1\n",
      "hgfedcba"
     ]
    }
   ],
   "source": [
    "pt = \"\"\"\n",
    "반복문으로 문자열 처리하기\n",
    "입력받은 문자열을 거꾸로 출력하는 프로그램\n",
    "\"\"\"\n",
    "\n",
    "user_str = input(\"문자열을 입력하세요 \\n\")\n",
    "\n",
    "no_vocab = 0\n",
    "\n",
    "new_str = \"\"\n",
    "for i in user_str:\n",
    "    if i.isalpha():\n",
    "        new_str += i\n",
    "    else:\n",
    "        no_vocab += 1\n",
    "print(\"문자열이 아닌 수 :\", no_vocab)\n",
    "for i in range(len(new_str)-1, -1, -1):\n",
    "    print(new_str[i], end=\"\")"
   ]
  },
  {
   "cell_type": "code",
   "execution_count": 17,
   "id": "3c25417b",
   "metadata": {},
   "outputs": [
    {
     "name": "stdout",
     "output_type": "stream",
     "text": [
      "문자열을 입력하세요 \n",
      "abc\n",
      "cba 역순으로 한 거\n"
     ]
    }
   ],
   "source": [
    "pt = \"\"\"\n",
    "반복문으로 문자열 처리하기\n",
    "입력받은 문자열을 거꾸로 출력하는 프로그램\n",
    "\"\"\"\n",
    "\n",
    "user_str = input(\"문자열을 입력하세요 \\n\")\n",
    "\n",
    "no_vocab = 0\n",
    "\n",
    "new_str = \"\"\n",
    "for i in user_str:\n",
    "    new_str = i + new_str\n",
    "print(new_str, \"역순으로 한 거\")"
   ]
  },
  {
   "cell_type": "code",
   "execution_count": 21,
   "id": "86ece405",
   "metadata": {},
   "outputs": [
    {
     "name": "stdout",
     "output_type": "stream",
     "text": [
      "문자열을 입력하세요 \n",
      "abcdefg\n",
      "gfedcba\n",
      "##################################################\n",
      "gfedcba\n"
     ]
    }
   ],
   "source": [
    "# 다른 방법\n",
    "user_str = input(\"문자열을 입력하세요 \\n\")\n",
    "s_list = list(user_str)\n",
    "s_list.reverse() # 리스트만 거꾸로 \n",
    "\n",
    "# 거꾸로 뒤집은 것을 연결하여 출력하자.\n",
    "print(\"\".join(s_list))\n",
    "\n",
    "print('#'*50)\n",
    "s1 = user_str\n",
    "print(\"\".join(reversed(s1))) #문자열만 역순으로 하는 함수"
   ]
  },
  {
   "cell_type": "code",
   "execution_count": 29,
   "id": "235b9c32",
   "metadata": {},
   "outputs": [
    {
     "name": "stdout",
     "output_type": "stream",
     "text": [
      "----------------------------------------\n",
      "   안녕~\n",
      "안녕~\n",
      "----------------------------------------\n",
      " 안녕~   \n",
      " 안녕~\n",
      "----------------------------------------\n",
      "   안 녕~   \n",
      "안 녕~\n"
     ]
    }
   ],
   "source": [
    "# 왼쪽 공백 제거\n",
    "print('-'*40)\n",
    "state = \"   안녕~\"\n",
    "print(state)\n",
    "print(state.lstrip())\n",
    "\n",
    "# 오른쪽 공백 제거\n",
    "print('-'*40)\n",
    "state = \" 안녕~   \"\n",
    "print(state)\n",
    "print(state.rstrip())\n",
    "\n",
    "# 양쪽 공백 제거\n",
    "print('-'*40)\n",
    "state = \"   안 녕~   \"\n",
    "print(state)\n",
    "print(state.strip())"
   ]
  },
  {
   "cell_type": "code",
   "execution_count": 33,
   "id": "2e8c5f7b",
   "metadata": {},
   "outputs": [
    {
     "name": "stdout",
     "output_type": "stream",
     "text": [
      "파이썬 공부를 하려고 합니다. "
     ]
    }
   ],
   "source": [
    "# 문자열 나누기\n",
    "\n",
    "state = \"파이썬 공부를 하려고 합니다.\"\n",
    "\n",
    "new_state = state.split()\n",
    "\n",
    "for i in new_state:\n",
    "    print(i, end=\" \")"
   ]
  },
  {
   "cell_type": "code",
   "execution_count": null,
   "id": "cd459388",
   "metadata": {},
   "outputs": [],
   "source": []
  }
 ],
 "metadata": {
  "kernelspec": {
   "display_name": "Python 3 (ipykernel)",
   "language": "python",
   "name": "python3"
  },
  "language_info": {
   "codemirror_mode": {
    "name": "ipython",
    "version": 3
   },
   "file_extension": ".py",
   "mimetype": "text/x-python",
   "name": "python",
   "nbconvert_exporter": "python",
   "pygments_lexer": "ipython3",
   "version": "3.8.12"
  }
 },
 "nbformat": 4,
 "nbformat_minor": 5
}
