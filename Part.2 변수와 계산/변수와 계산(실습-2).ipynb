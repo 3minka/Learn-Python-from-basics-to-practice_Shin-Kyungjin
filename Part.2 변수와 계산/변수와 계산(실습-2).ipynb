{
 "cells": [
  {
   "cell_type": "code",
   "execution_count": 5,
   "id": "dfc7ab47",
   "metadata": {},
   "outputs": [],
   "source": [
    "menu = [\"커피\", \"커피\", \"홍차\", \"홍차\", \"커피\", \"주스\", \"에이드\", \"에이드\", \"에이드\", \"스무디\", \"주스\" ,\"주스\"]"
   ]
  },
  {
   "cell_type": "code",
   "execution_count": 47,
   "id": "7464a0a5",
   "metadata": {},
   "outputs": [
    {
     "name": "stdout",
     "output_type": "stream",
     "text": [
      "현재 menu 길이 12\n",
      "커피는 3개, 홍차는 2개, 주스는 3개, 에이드는 3개, 스무디는 1개, "
     ]
    }
   ],
   "source": [
    "print(f'현재 menu 길이 {len(menu)}')\n",
    "\n",
    "bin_list = []\n",
    "for value in menu:\n",
    "    if value not in bin_list:\n",
    "        bin_list.append(value)\n",
    "        print(f\"{value}는 {menu.count(value)}개, \" , end='')"
   ]
  },
  {
   "cell_type": "code",
   "execution_count": 53,
   "id": "3f4ffed1",
   "metadata": {},
   "outputs": [
    {
     "name": "stdout",
     "output_type": "stream",
     "text": [
      "커피\n",
      "{'커피': 1}\n",
      "커피\n",
      "{'커피': 2}\n",
      "홍차\n",
      "{'커피': 2, '홍차': 1}\n",
      "홍차\n",
      "{'커피': 2, '홍차': 2}\n",
      "커피\n",
      "{'커피': 3, '홍차': 2}\n",
      "주스\n",
      "{'커피': 3, '홍차': 2, '주스': 1}\n",
      "에이드\n",
      "{'커피': 3, '홍차': 2, '주스': 1, '에이드': 1}\n",
      "에이드\n",
      "{'커피': 3, '홍차': 2, '주스': 1, '에이드': 2}\n",
      "에이드\n",
      "{'커피': 3, '홍차': 2, '주스': 1, '에이드': 3}\n",
      "스무디\n",
      "{'커피': 3, '홍차': 2, '주스': 1, '에이드': 3, '스무디': 1}\n",
      "주스\n",
      "{'커피': 3, '홍차': 2, '주스': 2, '에이드': 3, '스무디': 1}\n",
      "주스\n",
      "{'커피': 3, '홍차': 2, '주스': 3, '에이드': 3, '스무디': 1}\n"
     ]
    }
   ],
   "source": [
    "d = {}\n",
    "for m in menu:\n",
    "  print(m)\n",
    "  if m in d:\n",
    "   d[m]=d[m]+1\n",
    "  else:\n",
    "   d[m]=1\n",
    "print(d)"
   ]
  },
  {
   "cell_type": "code",
   "execution_count": 76,
   "id": "ac6446b5",
   "metadata": {},
   "outputs": [
    {
     "name": "stdout",
     "output_type": "stream",
     "text": [
      "초를 입력하세요. ex) 100 \n",
      "10000\n",
      " 현재 2시간 46분 40초\n"
     ]
    }
   ],
   "source": [
    "# 초를 입력받아서  시, 분, 초로 변경하는 프로그램\n",
    "\n",
    "time = int(input(\"초를 입력하세요. ex) 100 \\n\"))\n",
    "\n",
    "sec_ = time % 60\n",
    "min_ = (time // 60) % 60\n",
    "hour_ = time // 3600 % 60\n",
    "\n",
    "print(f\" 현재 {hour_}시간 {min_}분 {sec_}초\")\n"
   ]
  },
  {
   "cell_type": "code",
   "execution_count": 81,
   "id": "a9b42952",
   "metadata": {},
   "outputs": [
    {
     "name": "stdout",
     "output_type": "stream",
     "text": [
      "x의 값을 입력하세요, ex 2 \n",
      "2\n",
      "y의 값은 35\n"
     ]
    }
   ],
   "source": [
    "# 2차 함수 y = 3 * x^2(3 * x의 2승) + 7x + 9, x가 2일때 y의 값 출력\n",
    "\n",
    "x_input = int(input(\"x의 값을 입력하세요, ex 2 \\n\"))\n",
    "\n",
    "# 방정식 x^2 + x + b\n",
    "y = 3*(x_input**2) + 7*x_input + 9\n",
    "\n",
    "print(f\"y의 값은 {y}\")"
   ]
  },
  {
   "cell_type": "code",
   "execution_count": 95,
   "id": "f53d0394",
   "metadata": {},
   "outputs": [
    {
     "name": "stdout",
     "output_type": "stream",
     "text": [
      "77 절대값\n",
      "1 반올림\n",
      "2 반올림\n",
      "999 최대값\n",
      "2.0 제곱근\n",
      "9  3의 2제곱\n"
     ]
    }
   ],
   "source": [
    "# 내장함수 math 라이브러리 이용\n",
    "\n",
    "# 절대값\n",
    "print(abs(-77), '절대값')\n",
    "\n",
    "# round\n",
    "print(round(1.222), '반올림')\n",
    "print(round(1.555), '반올림')\n",
    "\n",
    "# max값, min\n",
    "print(max(10, -20, 100, 999), '최대값')\n",
    "\n",
    "# 제곱근\n",
    "import math \n",
    "\n",
    "sqrt_ = math.sqrt\n",
    "print(sqrt_(4.0), '제곱근')\n",
    "\n",
    "# 연산자 **\n",
    "print(pow(3, 2), ' 3의 2제곱')"
   ]
  },
  {
   "cell_type": "code",
   "execution_count": null,
   "id": "3fcd813a",
   "metadata": {},
   "outputs": [],
   "source": []
  }
 ],
 "metadata": {
  "kernelspec": {
   "display_name": "Python 3 (ipykernel)",
   "language": "python",
   "name": "python3"
  },
  "language_info": {
   "codemirror_mode": {
    "name": "ipython",
    "version": 3
   },
   "file_extension": ".py",
   "mimetype": "text/x-python",
   "name": "python",
   "nbconvert_exporter": "python",
   "pygments_lexer": "ipython3",
   "version": "3.8.12"
  }
 },
 "nbformat": 4,
 "nbformat_minor": 5
}
