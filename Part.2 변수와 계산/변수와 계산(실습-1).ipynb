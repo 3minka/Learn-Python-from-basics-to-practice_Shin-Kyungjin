{
 "cells": [
  {
   "cell_type": "code",
   "execution_count": 3,
   "id": "6609cda8",
   "metadata": {},
   "outputs": [
    {
     "name": "stdout",
     "output_type": "stream",
     "text": [
      "<class 'int'>\n",
      "num1 : 100, num2 : 200\n",
      "num1 : 200, num2 : 100\n"
     ]
    }
   ],
   "source": [
    "# 변수의 두 개의 값을 서로 바꾸는 예제\n",
    "\n",
    "num1 = 100\n",
    "num2 = 200\n",
    "\n",
    "print(type(num1))\n",
    "\n",
    "print(f\"num1 : {num1}, num2 : {num2}\")\n",
    "\n",
    "temp = num1\n",
    "num1 = num2\n",
    "num2 = temp\n",
    "\n",
    "print(f\"num1 : {num1}, num2 : {num2}\")"
   ]
  },
  {
   "cell_type": "code",
   "execution_count": 9,
   "id": "5be2cf07",
   "metadata": {},
   "outputs": [
    {
     "name": "stdout",
     "output_type": "stream",
     "text": [
      "인원수를 입력하세요. ex)10명 -> 10 \n",
      "2\n",
      "현재 user는 2명, 치킨은 2마리, 맥주는 4병, 케익은 8개 입니다.\n"
     ]
    }
   ],
   "source": [
    "# input으로 받아서 인원수에 따라 치킨은 인당 1마리, 맥주는 인당 2병, 케익은 인당 4개\n",
    "\n",
    "user_num = int(input(\"인원수를 입력하세요. ex)10명 -> 10 \\n\"))\n",
    "\n",
    "ch = user_num*1\n",
    "beer = user_num*2\n",
    "cake = user_num*4\n",
    "\n",
    "print(f\"현재 user는 {user_num}명, 치킨은 {ch}마리, 맥주는 {beer}병, 케익은 {cake}개 입니다.\")"
   ]
  },
  {
   "cell_type": "code",
   "execution_count": 11,
   "id": "5e1a1fc4",
   "metadata": {},
   "outputs": [
    {
     "name": "stdout",
     "output_type": "stream",
     "text": [
      "정수를 2개 입력하세요. ex)30 20 \n",
      "20 30\n",
      " 합은 50 입니다.\n"
     ]
    }
   ],
   "source": [
    "# input으로 정수 2개 받아서 합 구하기\n",
    "\n",
    "a, b = input(\"정수를 2개 입력하세요. ex)30 20 \\n\").split()\n",
    "\n",
    "a = int(a)\n",
    "b = int(b)\n",
    "\n",
    "print(f\"합은 {a+b} 입니다.\")"
   ]
  },
  {
   "cell_type": "code",
   "execution_count": 24,
   "id": "7cf55db2",
   "metadata": {},
   "outputs": [
    {
     "name": "stdout",
     "output_type": "stream",
     "text": [
      "현재 구매할 수 있는 최대 사탕의 수는 41\n",
      "현재 최대 사탕의 수 구매후, 남은 돈 80원\n"
     ]
    }
   ],
   "source": [
    "# 5000원을 가진 user가 사탕이 120원일때, 얼마나 사탕을 살 수 있는가?\n",
    "\n",
    "user = 5000\n",
    "candy = 120\n",
    "\n",
    "print(f\"현재 구매할 수 있는 최대 사탕의 수는 {user//candy}\")\n",
    "print(f\"현재 최대 사탕의 수 구매후, 남은 돈 {user%candy}원\") # user - user//candy*candy"
   ]
  },
  {
   "cell_type": "code",
   "execution_count": 21,
   "id": "0b217e71",
   "metadata": {},
   "outputs": [
    {
     "data": {
      "text/plain": [
       "80"
      ]
     },
     "execution_count": 21,
     "metadata": {},
     "output_type": "execute_result"
    }
   ],
   "source": [
    "user%candy"
   ]
  },
  {
   "cell_type": "code",
   "execution_count": null,
   "id": "10c1c36a",
   "metadata": {},
   "outputs": [],
   "source": []
  }
 ],
 "metadata": {
  "kernelspec": {
   "display_name": "Python 3 (ipykernel)",
   "language": "python",
   "name": "python3"
  },
  "language_info": {
   "codemirror_mode": {
    "name": "ipython",
    "version": 3
   },
   "file_extension": ".py",
   "mimetype": "text/x-python",
   "name": "python",
   "nbconvert_exporter": "python",
   "pygments_lexer": "ipython3",
   "version": "3.8.12"
  }
 },
 "nbformat": 4,
 "nbformat_minor": 5
}
