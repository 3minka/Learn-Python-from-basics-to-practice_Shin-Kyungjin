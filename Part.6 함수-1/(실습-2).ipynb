{
 "cells": [
  {
   "cell_type": "code",
   "execution_count": 3,
   "id": "a08420ed",
   "metadata": {},
   "outputs": [
    {
     "name": "stdout",
     "output_type": "stream",
     "text": [
      "806\n"
     ]
    }
   ],
   "source": [
    "def sum_(start, end):\n",
    "    sum_0 = 0\n",
    "    for i in range(start, end+1):\n",
    "        sum_0 += i\n",
    "    return sum_0\n",
    "\n",
    "print(sum_(200, 203))"
   ]
  },
  {
   "cell_type": "code",
   "execution_count": 4,
   "id": "2f75ea3b",
   "metadata": {},
   "outputs": [
    {
     "name": "stdout",
     "output_type": "stream",
     "text": [
      "정수를 입력하세요. \n",
      "50\n",
      "2500\n"
     ]
    }
   ],
   "source": [
    "def mul_(num):\n",
    "    new = 0\n",
    "    new = num * num\n",
    "    return new\n",
    "\n",
    "num = int(input(\"정수를 입력하세요. \\n\"))\n",
    "print(mul_(num))"
   ]
  },
  {
   "cell_type": "code",
   "execution_count": 25,
   "id": "2f56ac65",
   "metadata": {},
   "outputs": [
    {
     "name": "stdout",
     "output_type": "stream",
     "text": [
      "정수를 입력하세요. \n",
      "500\n",
      "정수를 입력하세요. \n",
      "700\n",
      "700 max\n",
      "500 min\n"
     ]
    }
   ],
   "source": [
    "def max_(num1, num2):\n",
    "    temp = 0\n",
    "    if num1 > num2:\n",
    "        temp = num1\n",
    "    else:\n",
    "        temp = num2\n",
    "    return temp\n",
    "\n",
    "def min_(num1, num2):\n",
    "    temp = 0\n",
    "    if num1 < num2:\n",
    "        temp = num1\n",
    "    else:\n",
    "        temp = num2\n",
    "    return temp\n",
    "\n",
    "num1 = int(input(\"정수를 입력하세요. \\n\"))\n",
    "num2 = int(input(\"정수를 입력하세요. \\n\"))\n",
    "\n",
    "print()\n",
    "print(max_(num1, num2), 'max')\n",
    "print(min_(num1, num2), 'min')"
   ]
  },
  {
   "cell_type": "code",
   "execution_count": 26,
   "id": "af876589",
   "metadata": {},
   "outputs": [
    {
     "name": "stdout",
     "output_type": "stream",
     "text": [
      "81\n"
     ]
    }
   ],
   "source": [
    "def power_(x, y):\n",
    "    result = 1\n",
    "    for i in range(y):\n",
    "        result *= x\n",
    "    return result\n",
    "\n",
    "print(power_(3, 4))"
   ]
  },
  {
   "cell_type": "code",
   "execution_count": null,
   "id": "2632e7a8",
   "metadata": {},
   "outputs": [],
   "source": []
  }
 ],
 "metadata": {
  "kernelspec": {
   "display_name": "Python 3 (ipykernel)",
   "language": "python",
   "name": "python3"
  },
  "language_info": {
   "codemirror_mode": {
    "name": "ipython",
    "version": 3
   },
   "file_extension": ".py",
   "mimetype": "text/x-python",
   "name": "python",
   "nbconvert_exporter": "python",
   "pygments_lexer": "ipython3",
   "version": "3.8.12"
  }
 },
 "nbformat": 4,
 "nbformat_minor": 5
}
